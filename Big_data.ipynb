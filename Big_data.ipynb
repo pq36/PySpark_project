{
 "cells": [
  {
   "cell_type": "markdown",
   "metadata": {},
   "source": [
    "#### a) Generate a Data Model and show relationship between tables. Describe each attribute.\n",
    "![Weather Data Model](./images/ER.webp)"
   ]
  },
  {
   "cell_type": "code",
   "execution_count": 16,
   "metadata": {
    "colab": {
     "base_uri": "https://localhost:8080/"
    },
    "id": "TvfwxGEBmuM-",
    "outputId": "8f83b5e9-7823-4c44-b3de-14fabd99403a"
   },
   "outputs": [
    {
     "name": "stdout",
     "output_type": "stream",
     "text": [
      "Requirement already satisfied: pyspark in c:\\users\\meghana m\\anaconda3\\lib\\site-packages (3.5.3)\n",
      "Requirement already satisfied: py4j==0.10.9.7 in c:\\users\\meghana m\\anaconda3\\lib\\site-packages (from pyspark) (0.10.9.7)\n"
     ]
    }
   ],
   "source": [
    "!pip install pyspark"
   ]
  },
  {
   "cell_type": "markdown",
   "metadata": {},
   "source": [
    "importig necessary libraries"
   ]
  },
  {
   "cell_type": "code",
   "execution_count": 17,
   "metadata": {
    "id": "D17dfQ72m51E"
   },
   "outputs": [],
   "source": [
    "from pyspark.sql import SparkSession\n",
    "from pyspark.sql.functions import col, count, when, year, hour, avg\n",
    "from pyspark.sql import functions as F\n",
    "from pyspark.sql.types import DoubleType\n",
    "from pyspark.sql.window import Window"
   ]
  },
  {
   "cell_type": "code",
   "execution_count": 18,
   "metadata": {
    "id": "AwPAcY-em6ux"
   },
   "outputs": [],
   "source": [
    "from pyspark.sql import SparkSession\n",
    "spark = SparkSession.builder\\\n",
    "\t  .master(\"local[*]\")\\\n",
    "\t  .appName(\"PROJECT_WEATHER_DATASETS\")\\\n",
    "\t  .config('spark.ui.port', '4050')\\\n",
    "\t  .config(\"spark.sql.autoBroadcastJoinThreshold\", \"-1\")\\\n",
    "\t  .getOrCreate()"
   ]
  },
  {
   "cell_type": "markdown",
   "metadata": {},
   "source": [
    "- b) Generate a fill rate report for all columns (Meaning, how many records in each column has proper values.\n",
    "- c) Data Cleaning (For ex: Null Values, Empty Values, string value in integer columns etc. should be removed)\n",
    "- d) Remove logically incorrect Data \n",
    "- e) Show data cleanliness percentage (i.e. number_of_records_post_cleaning/source_count *100)"
   ]
  },
  {
   "cell_type": "markdown",
   "metadata": {},
   "source": [
    "#### for cities dataset"
   ]
  },
  {
   "cell_type": "code",
   "execution_count": 19,
   "metadata": {
    "colab": {
     "base_uri": "https://localhost:8080/"
    },
    "id": "0Yy_AiQ6nn_a",
    "outputId": "5f9e5219-8178-4010-acc2-873ad0234389"
   },
   "outputs": [
    {
     "name": "stdout",
     "output_type": "stream",
     "text": [
      "+------------+----------+----------+\n",
      "|   city_name|  latitude| longitude|\n",
      "+------------+----------+----------+\n",
      "|   Abu Dhabi| 24.466669| 54.366669|\n",
      "|   Amsterdam| 52.374031|   4.88969|\n",
      "|      Athens|  37.97945| 23.716221|\n",
      "|     Atlanta| 33.749001|-84.387978|\n",
      "|    Auckland| -36.85582|174.743042|\n",
      "|      Austin| 34.998421|-91.983757|\n",
      "|     Bangkok|  13.87719| 100.71991|\n",
      "|   Barcelona|  41.38879|   2.15899|\n",
      "|     Beijing| 39.907501|116.397232|\n",
      "|      Berlin| 54.033329|     10.45|\n",
      "|      Bilbao| 43.262711|  -2.92528|\n",
      "|  Birmingham| 52.481419|  -1.89983|\n",
      "|      Bogota|  4.624335|-74.063644|\n",
      "|      Boston| 30.791861|-83.789886|\n",
      "|    Brisbane|-27.467939|153.028091|\n",
      "|    Brussels| 50.850449|   4.34878|\n",
      "|   Bucharest| 44.432251|  26.10626|\n",
      "|    Budapest| 47.497913| 19.040236|\n",
      "|Buenos Aires|-34.603722|-58.381592|\n",
      "|       Busan| 35.133331|129.050003|\n",
      "+------------+----------+----------+\n",
      "only showing top 20 rows\n",
      "\n"
     ]
    }
   ],
   "source": [
    "cities=spark.read.option(\"Header\",True).option(\"delimiter\",\",\").csv('Datasets/cities.csv')\n",
    "cities.show()"
   ]
  },
  {
   "cell_type": "code",
   "execution_count": 20,
   "metadata": {
    "colab": {
     "base_uri": "https://localhost:8080/"
    },
    "id": "XQ7rPmw6qZmK",
    "outputId": "a0e0b271-ba71-40bf-b53d-5cc374e5eb58"
   },
   "outputs": [
    {
     "name": "stdout",
     "output_type": "stream",
     "text": [
      "+-------------------+------------------+-------------------+\n",
      "|city_name_fill_rate|latitude_fill_rate|longitude_fill_rate|\n",
      "+-------------------+------------------+-------------------+\n",
      "|              100.0|             100.0|              100.0|\n",
      "+-------------------+------------------+-------------------+\n",
      "\n"
     ]
    }
   ],
   "source": [
    "\n",
    "\n",
    "# Get total number of records\n",
    "total_records = cities.count()\n",
    "\n",
    "# Calculate the number of valid (non-null and non-garbage) values for each column\n",
    "fill_rate_report = (\n",
    "    cities.select(\n",
    "        *[\n",
    "            (count(when(col(column).isNotNull() & (col(column) != ''), column)) / total_records * 100)\n",
    "            .alias(f\"{column}_fill_rate\")\n",
    "            for column in cities.columns\n",
    "        ]\n",
    "    )\n",
    ")\n",
    "\n",
    "# Show the fill rate report\n",
    "fill_rate_report.show()\n"
   ]
  },
  {
   "cell_type": "code",
   "execution_count": 21,
   "metadata": {
    "colab": {
     "base_uri": "https://localhost:8080/"
    },
    "id": "VvkQDkBhq0Wp",
    "outputId": "cd22fb02-e504-490a-8f45-2e00d48bca2e"
   },
   "outputs": [
    {
     "name": "stdout",
     "output_type": "stream",
     "text": [
      "+------------+----------+----------+\n",
      "|   city_name|  latitude| longitude|\n",
      "+------------+----------+----------+\n",
      "|   Abu Dhabi| 24.466669| 54.366669|\n",
      "|   Amsterdam| 52.374031|   4.88969|\n",
      "|      Athens|  37.97945| 23.716221|\n",
      "|     Atlanta| 33.749001|-84.387978|\n",
      "|    Auckland| -36.85582|174.743042|\n",
      "|      Austin| 34.998421|-91.983757|\n",
      "|     Bangkok|  13.87719| 100.71991|\n",
      "|   Barcelona|  41.38879|   2.15899|\n",
      "|     Beijing| 39.907501|116.397232|\n",
      "|      Berlin| 54.033329|     10.45|\n",
      "|      Bilbao| 43.262711|  -2.92528|\n",
      "|  Birmingham| 52.481419|  -1.89983|\n",
      "|      Bogota|  4.624335|-74.063644|\n",
      "|      Boston| 30.791861|-83.789886|\n",
      "|    Brisbane|-27.467939|153.028091|\n",
      "|    Brussels| 50.850449|   4.34878|\n",
      "|   Bucharest| 44.432251|  26.10626|\n",
      "|    Budapest| 47.497913| 19.040236|\n",
      "|Buenos Aires|-34.603722|-58.381592|\n",
      "|       Busan| 35.133331|129.050003|\n",
      "+------------+----------+----------+\n",
      "only showing top 20 rows\n",
      "\n"
     ]
    }
   ],
   "source": [
    "\n",
    "# Step 1: Replace empty strings with null values for all columns\n",
    "cities_cleaned = cities.select(\n",
    "    *[when(col(column) != \"\", col(column)).otherwise(None).alias(column) for column in cities.columns]\n",
    ")\n",
    "\n",
    "# Step 2: Drop rows with null values in important columns (e.g., city_name, latitude, longitude)\n",
    "cities_cleaned = cities_cleaned.dropna(subset=[\"city_name\", \"latitude\", \"longitude\"])\n",
    "\n",
    "# Step 3: Convert numeric columns (latitude, longitude) to the correct data type (DoubleType)\n",
    "numeric_columns = [\"latitude\", \"longitude\"]\n",
    "for column in numeric_columns:\n",
    "    cities_cleaned = cities_cleaned.withColumn(column, col(column).cast(DoubleType()))\n",
    "\n",
    "# Step 4: Remove rows where numeric columns have invalid values (e.g., not a number)\n",
    "for column in numeric_columns:\n",
    "    cities_cleaned = cities_cleaned.filter(col(column).isNotNull())\n",
    "\n",
    "# Step 5: Show the cleaned dataset\n",
    "cities_cleaned.show()\n"
   ]
  },
  {
   "cell_type": "code",
   "execution_count": 22,
   "metadata": {
    "colab": {
     "base_uri": "https://localhost:8080/"
    },
    "id": "LZSgtCWXrtq3",
    "outputId": "f9616a90-437a-4412-9173-2c9a2d8066b1"
   },
   "outputs": [
    {
     "name": "stdout",
     "output_type": "stream",
     "text": [
      "+------------+----------+----------+\n",
      "|   city_name|  latitude| longitude|\n",
      "+------------+----------+----------+\n",
      "|   Abu Dhabi| 24.466669| 54.366669|\n",
      "|   Amsterdam| 52.374031|   4.88969|\n",
      "|      Athens|  37.97945| 23.716221|\n",
      "|     Atlanta| 33.749001|-84.387978|\n",
      "|    Auckland| -36.85582|174.743042|\n",
      "|      Austin| 34.998421|-91.983757|\n",
      "|     Bangkok|  13.87719| 100.71991|\n",
      "|   Barcelona|  41.38879|   2.15899|\n",
      "|     Beijing| 39.907501|116.397232|\n",
      "|      Berlin| 54.033329|     10.45|\n",
      "|      Bilbao| 43.262711|  -2.92528|\n",
      "|  Birmingham| 52.481419|  -1.89983|\n",
      "|      Bogota|  4.624335|-74.063644|\n",
      "|      Boston| 30.791861|-83.789886|\n",
      "|    Brisbane|-27.467939|153.028091|\n",
      "|    Brussels| 50.850449|   4.34878|\n",
      "|   Bucharest| 44.432251|  26.10626|\n",
      "|    Budapest| 47.497913| 19.040236|\n",
      "|Buenos Aires|-34.603722|-58.381592|\n",
      "|       Busan| 35.133331|129.050003|\n",
      "+------------+----------+----------+\n",
      "only showing top 20 rows\n",
      "\n"
     ]
    }
   ],
   "source": [
    "\n",
    "# Step 2: Remove rows with invalid latitude and longitude values\n",
    "cities_cleaned = cities_cleaned.filter(\n",
    "    (col(\"latitude\") >= -90) & (col(\"latitude\") <= 90) &\n",
    "    (col(\"longitude\") >= -180) & (col(\"longitude\") <= 180)\n",
    ")\n",
    "\n",
    "# Show cleaned dataset\n",
    "cities_cleaned.show()\n"
   ]
  },
  {
   "cell_type": "code",
   "execution_count": 23,
   "metadata": {
    "colab": {
     "base_uri": "https://localhost:8080/"
    },
    "id": "d36JNiJcyu4f",
    "outputId": "af2b3c99-d930-40ca-f47c-91fbecc8329b"
   },
   "outputs": [
    {
     "name": "stdout",
     "output_type": "stream",
     "text": [
      "Data Cleanliness Percentage: 100.00%\n"
     ]
    }
   ],
   "source": [
    "# Get the original count of records before cleaning\n",
    "original_count = cities.count()\n",
    "\n",
    "\n",
    "cleaned_count = cities_cleaned.count()\n",
    "\n",
    "# Calculate cleanliness percentage\n",
    "cleanliness_percentage = (cleaned_count / original_count) * 100\n",
    "\n",
    "# Show the cleanliness percentage\n",
    "print(f\"Data Cleanliness Percentage: {cleanliness_percentage:.2f}%\")\n"
   ]
  },
  {
   "cell_type": "markdown",
   "metadata": {},
   "source": [
    "#### for daily_data_combined_1960_to_1969 dataset"
   ]
  },
  {
   "cell_type": "code",
   "execution_count": 24,
   "metadata": {
    "colab": {
     "base_uri": "https://localhost:8080/"
    },
    "id": "xTJPuXfQn7Jl",
    "outputId": "a383d3e3-6764-4cd5-d45f-f9a9b4360e82"
   },
   "outputs": [
    {
     "name": "stdout",
     "output_type": "stream",
     "text": [
      "+---------+----------+------------+------------------+------------------+-------------------+------------------------+------------------------+-------------------------+----------------+----------------+-----------------+-----------------+-----------------+--------+------------+-------------------+------------------+------------------+---------------------------+-----------------------+--------------------------+\n",
      "|city_name|  datetime|weather_code|temperature_2m_max|temperature_2m_min|temperature_2m_mean|apparent_temperature_max|apparent_temperature_min|apparent_temperature_mean|         sunrise|          sunset|daylight_duration|sunshine_duration|precipitation_sum|rain_sum|snowfall_sum|precipitation_hours|wind_speed_10m_max|wind_gusts_10m_max|wind_direction_10m_dominant|shortwave_radiation_sum|et0_fao_evapotranspiration|\n",
      "+---------+----------+------------+------------------+------------------+-------------------+------------------------+------------------------+-------------------------+----------------+----------------+-----------------+-----------------+-----------------+--------+------------+-------------------+------------------+------------------+---------------------------+-----------------------+--------------------------+\n",
      "|Abu Dhabi|2010-01-01|        51.0|              23.4|              13.4|               19.0|                    22.3|                    12.4|                     17.6|2010-01-01T03:06|2010-01-01T13:45|         38338.79|         34674.74|              0.3|     0.3|         0.0|                1.0|              23.8|              33.8|                      291.0|                  13.77|                      3.31|\n",
      "|Abu Dhabi|2010-01-02|        51.0|              21.6|              18.2|               19.8|                    18.3|                    16.2|                     17.3|2010-01-02T03:06|2010-01-02T13:45|         38360.93|         33417.19|              0.9|     0.9|         0.0|                7.0|              31.6|              48.2|                      299.0|                  12.37|                      3.59|\n",
      "|Abu Dhabi|2010-01-03|         2.0|              22.9|              16.8|               19.7|                    22.6|                    16.0|                     19.1|2010-01-03T03:06|2010-01-03T13:46|         38384.87|         35050.93|              0.0|     0.0|         0.0|                0.0|              15.1|              24.5|                      320.0|                  15.46|                      3.31|\n",
      "|Abu Dhabi|2010-01-04|         2.0|              21.9|              15.7|               18.6|                    22.1|                    15.8|                     18.7|2010-01-04T03:07|2010-01-04T13:47|         38410.61|         34804.72|              0.0|     0.0|         0.0|                0.0|              12.2|              23.0|                      323.0|                   15.6|                      2.82|\n",
      "|Abu Dhabi|2010-01-05|         2.0|              21.7|              14.2|               17.9|                    21.8|                    13.8|                     17.8|2010-01-05T03:07|2010-01-05T13:47|         38438.12|         34464.36|              0.0|     0.0|         0.0|                0.0|              16.9|              28.8|                      282.0|                  15.55|                      2.76|\n",
      "|Abu Dhabi|2010-01-06|         1.0|              23.5|              12.7|               19.0|                    21.8|                    11.9|                     18.0|2010-01-06T03:07|2010-01-06T13:48|         38467.44|         35252.62|              0.0|     0.0|         0.0|                0.0|              21.7|              36.0|                      281.0|                  16.36|                      3.47|\n",
      "|Abu Dhabi|2010-01-07|         2.0|              23.8|              17.4|               20.9|                    22.8|                    17.7|                     20.4|2010-01-07T03:07|2010-01-07T13:49|          38498.9|         34466.25|              0.0|     0.0|         0.0|                0.0|              20.3|              32.4|                      325.0|                  14.34|                      3.28|\n",
      "|Abu Dhabi|2010-01-08|         0.0|              26.0|              15.3|               20.4|                    25.6|                    15.0|                     20.1|2010-01-08T03:07|2010-01-08T13:49|          38532.5|         35597.94|              0.0|     0.0|         0.0|                0.0|              18.4|              28.1|                       21.0|                  16.82|                      3.55|\n",
      "|Abu Dhabi|2010-01-09|         1.0|              24.7|              16.1|               20.5|                    24.2|                    15.7|                     20.3|2010-01-09T03:07|2010-01-09T13:50|         38568.15|         35181.91|              0.0|     0.0|         0.0|                0.0|              22.7|              36.0|                      339.0|                  16.26|                      3.41|\n",
      "|Abu Dhabi|2010-01-10|         1.0|              22.3|              15.9|               19.2|                    21.3|                    15.0|                     18.4|2010-01-10T03:07|2010-01-10T13:51|         38605.79|         35604.32|              0.0|     0.0|         0.0|                0.0|              19.2|              33.8|                      294.0|                  15.92|                       3.3|\n",
      "|Abu Dhabi|2010-01-11|         1.0|              22.9|              15.0|               19.1|                    21.6|                    14.1|                     18.0|2010-01-11T03:08|2010-01-11T13:52|         38645.34|         35313.92|              0.0|     0.0|         0.0|                0.0|              17.6|              28.1|                      343.0|                  15.76|                      3.53|\n",
      "|Abu Dhabi|2010-01-12|         0.0|              24.2|              15.2|               19.7|                    23.7|                    14.3|                     19.1|2010-01-12T03:08|2010-01-12T13:52|         38686.71|         35786.36|              0.0|     0.0|         0.0|                0.0|              17.6|              30.2|                      327.0|                  16.98|                      3.57|\n",
      "|Abu Dhabi|2010-01-13|         1.0|              23.3|              12.8|               19.3|                    23.7|                    12.4|                     19.5|2010-01-13T03:08|2010-01-13T13:53|         38729.84|         35394.82|              0.0|     0.0|         0.0|                0.0|              12.4|              22.0|                      309.0|                  16.33|                      3.09|\n",
      "|Abu Dhabi|2010-01-14|         3.0|              23.0|              12.1|               17.9|                    23.4|                    11.4|                     17.7|2010-01-14T03:08|2010-01-14T13:54|         38774.66|         31817.86|              0.0|     0.0|         0.0|                0.0|              15.3|              25.9|                       24.0|                  15.17|                      2.86|\n",
      "|Abu Dhabi|2010-01-15|         3.0|              22.9|              11.9|               17.7|                    22.4|                    11.0|                     17.4|2010-01-15T03:08|2010-01-15T13:55|         38821.08|         34688.89|              0.0|     0.0|         0.0|                0.0|              16.3|              28.4|                        7.0|                  16.71|                      3.09|\n",
      "|Abu Dhabi|2010-01-16|         3.0|              22.3|              11.7|               17.3|                    21.8|                    11.2|                     16.9|2010-01-16T03:08|2010-01-16T13:55|         38869.03|         30604.73|              0.0|     0.0|         0.0|                0.0|              16.3|              27.7|                      352.0|                   16.3|                      3.09|\n",
      "|Abu Dhabi|2010-01-17|         3.0|              22.7|              12.3|               18.4|                    22.2|                    12.2|                     18.4|2010-01-17T03:08|2010-01-17T13:56|         38918.44|          35582.8|              0.0|     0.0|         0.0|                0.0|              16.6|              30.6|                      348.0|                  17.04|                      3.12|\n",
      "|Abu Dhabi|2010-01-18|         3.0|              22.8|              12.9|               17.9|                    23.6|                    13.2|                     18.5|2010-01-18T03:07|2010-01-18T13:57|         38969.25|         29906.87|              0.0|     0.0|         0.0|                0.0|              11.4|              18.7|                       26.0|                  15.35|                       2.7|\n",
      "|Abu Dhabi|2010-01-19|         3.0|              23.6|              12.3|               17.8|                    24.1|                    11.9|                     18.1|2010-01-19T03:07|2010-01-19T13:58|         39021.36|         32588.79|              0.0|     0.0|         0.0|                0.0|              14.7|              24.8|                       39.0|                  16.43|                      2.96|\n",
      "|Abu Dhabi|2010-01-20|         3.0|              25.7|              13.4|               19.0|                    25.5|                    13.4|                     19.1|2010-01-20T03:07|2010-01-20T13:58|         39074.72|         30974.74|              0.0|     0.0|         0.0|                0.0|              13.0|              18.0|                       60.0|                  16.59|                       3.1|\n",
      "+---------+----------+------------+------------------+------------------+-------------------+------------------------+------------------------+-------------------------+----------------+----------------+-----------------+-----------------+-----------------+--------+------------+-------------------+------------------+------------------+---------------------------+-----------------------+--------------------------+\n",
      "only showing top 20 rows\n",
      "\n"
     ]
    }
   ],
   "source": [
    "daily_data_1960_1969=spark.read.option(\"Header\",True).option(\"delimiter\",\",\").csv('DataSets/daily_data_combined_1960_to_1969.csv')\n",
    "daily_data_1960_1969.show()"
   ]
  },
  {
   "cell_type": "code",
   "execution_count": 25,
   "metadata": {
    "colab": {
     "base_uri": "https://localhost:8080/"
    },
    "id": "SbOg2zoDsc4G",
    "outputId": "081f92b8-16e6-4a96-939e-a0a9f04dc3e7"
   },
   "outputs": [
    {
     "name": "stdout",
     "output_type": "stream",
     "text": [
      "+-------------------+------------------+----------------------+----------------------------+----------------------------+-----------------------------+----------------------------------+----------------------------------+-----------------------------------+-----------------+----------------+---------------------------+---------------------------+---------------------------+------------------+----------------------+-----------------------------+----------------------------+----------------------------+-------------------------------------+---------------------------------+------------------------------------+\n",
      "|city_name_fill_rate|datetime_fill_rate|weather_code_fill_rate|temperature_2m_max_fill_rate|temperature_2m_min_fill_rate|temperature_2m_mean_fill_rate|apparent_temperature_max_fill_rate|apparent_temperature_min_fill_rate|apparent_temperature_mean_fill_rate|sunrise_fill_rate|sunset_fill_rate|daylight_duration_fill_rate|sunshine_duration_fill_rate|precipitation_sum_fill_rate|rain_sum_fill_rate|snowfall_sum_fill_rate|precipitation_hours_fill_rate|wind_speed_10m_max_fill_rate|wind_gusts_10m_max_fill_rate|wind_direction_10m_dominant_fill_rate|shortwave_radiation_sum_fill_rate|et0_fao_evapotranspiration_fill_rate|\n",
      "+-------------------+------------------+----------------------+----------------------------+----------------------------+-----------------------------+----------------------------------+----------------------------------+-----------------------------------+-----------------+----------------+---------------------------+---------------------------+---------------------------+------------------+----------------------+-----------------------------+----------------------------+----------------------------+-------------------------------------+---------------------------------+------------------------------------+\n",
      "|              100.0|             100.0|                 100.0|                       100.0|                       100.0|                        100.0|                             100.0|                             100.0|                              100.0|            100.0|           100.0|                      100.0|                      100.0|                      100.0|             100.0|                 100.0|                        100.0|                       100.0|                       100.0|                                100.0|                            100.0|                   99.99945235487404|\n",
      "+-------------------+------------------+----------------------+----------------------------+----------------------------+-----------------------------+----------------------------------+----------------------------------+-----------------------------------+-----------------+----------------+---------------------------+---------------------------+---------------------------+------------------+----------------------+-----------------------------+----------------------------+----------------------------+-------------------------------------+---------------------------------+------------------------------------+\n",
      "\n"
     ]
    }
   ],
   "source": [
    "\n",
    "\n",
    "# Get total number of records\n",
    "total_records = daily_data_1960_1969.count()\n",
    "\n",
    "# Calculate the number of valid (non-null and non-garbage) values for each column\n",
    "fill_rate_report = (\n",
    "   daily_data_1960_1969.select(\n",
    "        *[\n",
    "            (count(when(col(column).isNotNull() & (col(column) != ''), column)) / total_records * 100)\n",
    "            .alias(f\"{column}_fill_rate\")\n",
    "            for column in daily_data_1960_1969.columns\n",
    "        ]\n",
    "    )\n",
    ")\n",
    "\n",
    "# Show the fill rate report\n",
    "fill_rate_report.show()\n"
   ]
  },
  {
   "cell_type": "code",
   "execution_count": 26,
   "metadata": {
    "colab": {
     "base_uri": "https://localhost:8080/"
    },
    "id": "a4zLI91buFNZ",
    "outputId": "1815ad25-2ead-4307-f00e-75a7f8485d6a"
   },
   "outputs": [
    {
     "name": "stdout",
     "output_type": "stream",
     "text": [
      "+---------+----------+------------+------------------+------------------+-------------------+------------------------+------------------------+-------------------------+----------------+----------------+-----------------+-----------------+-----------------+--------+------------+-------------------+------------------+------------------+---------------------------+-----------------------+--------------------------+\n",
      "|city_name|  datetime|weather_code|temperature_2m_max|temperature_2m_min|temperature_2m_mean|apparent_temperature_max|apparent_temperature_min|apparent_temperature_mean|         sunrise|          sunset|daylight_duration|sunshine_duration|precipitation_sum|rain_sum|snowfall_sum|precipitation_hours|wind_speed_10m_max|wind_gusts_10m_max|wind_direction_10m_dominant|shortwave_radiation_sum|et0_fao_evapotranspiration|\n",
      "+---------+----------+------------+------------------+------------------+-------------------+------------------------+------------------------+-------------------------+----------------+----------------+-----------------+-----------------+-----------------+--------+------------+-------------------+------------------+------------------+---------------------------+-----------------------+--------------------------+\n",
      "|Abu Dhabi|2011-12-18|         1.0|              23.8|              14.2|               19.9|                    23.4|                    14.7|                     19.8|2011-12-18T03:00|2011-12-18T13:37|         38236.47|         33152.53|              0.0|     0.0|         0.0|                0.0|              18.2|              32.8|                      301.0|                  15.12|                      3.22|\n",
      "|Abu Dhabi|2012-07-22|         0.0|              42.2|              30.6|               36.8|                    46.7|                    34.8|                     41.6|2012-07-22T01:46|2012-07-22T15:11|         48291.15|         42946.73|              0.0|     0.0|         0.0|                0.0|              16.7|              31.3|                      350.0|                  24.55|                      7.68|\n",
      "|Abu Dhabi|2012-08-18|         0.0|              41.4|              29.3|               35.1|                    45.7|                    35.6|                     40.1|2012-08-18T01:58|2012-08-18T14:53|         46519.63|         40908.43|              0.0|     0.0|         0.0|                0.0|              21.5|              33.5|                      324.0|                  24.92|                      7.58|\n",
      "|Abu Dhabi|2012-10-30|         0.0|              32.5|              23.4|               28.1|                    34.0|                    26.9|                     30.3|2012-10-30T02:28|2012-10-30T13:43|         40524.59|         36307.29|              0.0|     0.0|         0.0|                0.0|              23.7|              38.5|                      340.0|                  18.07|                      5.17|\n",
      "|Abu Dhabi|2013-02-28|         2.0|              26.1|              16.8|               21.5|                    28.0|                    17.8|                     22.1|2013-02-28T02:45|2013-02-28T14:24|         41926.82|         36703.23|              0.0|     0.0|         0.0|                0.0|              20.4|              30.6|                       42.0|                  20.67|                      4.49|\n",
      "|Abu Dhabi|2013-04-26|        61.0|              26.0|              21.4|               23.5|                    25.5|                    22.2|                     23.6|2013-04-26T01:51|2013-04-26T14:49|         46704.41|         19618.41|              6.3|     6.3|         0.0|                9.0|              22.9|              37.8|                      330.0|                  12.72|                      3.65|\n",
      "|Abu Dhabi|2013-05-01|        53.0|              28.7|              22.5|               25.7|                    30.5|                    25.4|                     28.1|2013-05-01T01:47|2013-05-01T14:51|          47076.3|         15853.46|              1.5|     1.5|         0.0|                4.0|              18.8|              33.1|                      180.0|                  11.62|                      3.19|\n",
      "|Abu Dhabi|2013-12-02|         1.0|              28.0|              19.9|               24.0|                    29.7|                    21.7|                     25.7|2013-12-02T02:50|2013-12-02T13:33|         38589.51|         35180.67|              0.0|     0.0|         0.0|                0.0|              20.6|              32.8|                      304.0|                  16.27|                      3.59|\n",
      "|Abu Dhabi|2014-08-20|         0.0|              39.8|              31.6|               35.3|                    44.7|                    32.7|                     38.9|2014-08-20T01:58|2014-08-20T14:52|         46407.93|         40917.23|              0.0|     0.0|         0.0|                0.0|              24.1|              36.0|                      243.0|                  24.72|                      8.17|\n",
      "|Abu Dhabi|2015-05-16|         0.0|              37.2|              26.9|               32.6|                    40.2|                    31.9|                     36.1|2015-05-16T01:38|2015-05-16T14:58|         48028.93|         44691.31|              0.0|     0.0|         0.0|                0.0|              26.3|              45.4|                      302.0|                  27.68|                      8.23|\n",
      "|Abu Dhabi|2015-09-21|         0.0|              40.0|              27.9|               34.2|                    42.0|                    27.8|                     35.6|2015-09-21T02:10|2015-09-21T14:20|         43799.43|         39764.56|              0.0|     0.0|         0.0|                0.0|              27.7|              41.0|                       18.0|                  22.98|                      8.47|\n",
      "|Abu Dhabi|2017-04-28|         0.0|              36.2|              25.3|               29.7|                    38.5|                    29.4|                     32.6|2017-04-28T01:49|2017-04-28T14:50|         46857.59|         43058.46|              0.0|     0.0|         0.0|                0.0|              24.5|              40.0|                      325.0|                  27.11|                      6.76|\n",
      "|Abu Dhabi|2017-06-14|         0.0|              38.2|              29.3|               32.9|                    43.2|                    35.4|                     38.9|2017-06-14T01:33|2017-06-14T15:11|         49116.24|         45059.43|              0.0|     0.0|         0.0|                0.0|              19.1|              32.8|                       10.0|                  27.01|                      6.71|\n",
      "|Abu Dhabi|2017-06-22|         0.0|              36.2|              29.8|               32.9|                    42.5|                    37.7|                     39.6|2017-06-22T01:34|2017-06-22T15:13|         49155.32|          44910.4|              0.0|     0.0|         0.0|                0.0|              22.4|              38.5|                      283.0|                  25.52|                      6.37|\n",
      "|Abu Dhabi|2017-08-12|         0.0|              42.8|              32.8|               36.7|                    44.4|                    33.7|                     40.6|2017-08-12T01:55|2017-08-12T14:58|         46980.25|         39853.94|              0.0|     0.0|         0.0|                0.0|              22.2|              35.3|                        3.0|                  24.02|                      8.17|\n",
      "|Abu Dhabi|2018-01-10|         1.0|              22.4|              17.4|               19.9|                    19.7|                    16.4|                     18.2|2018-01-10T03:07|2018-01-10T13:51|         38610.14|         33252.35|              0.0|     0.0|         0.0|                0.0|              22.7|              36.7|                       13.0|                  12.87|                      3.53|\n",
      "|Abu Dhabi|2018-04-06|         1.0|              33.3|              23.6|               27.2|                    33.5|                    25.2|                     28.2|2018-04-06T02:09|2018-04-06T14:40|          45081.5|          39600.0|              0.0|     0.0|         0.0|                0.0|              30.3|              51.8|                       12.0|                   24.0|                      6.03|\n",
      "|Abu Dhabi|2018-06-23|         1.0|              35.5|              29.9|               32.6|                    39.8|                    33.8|                     35.7|2018-06-23T01:34|2018-06-23T15:14|         49151.47|         43276.99|              0.0|     0.0|         0.0|                0.0|              30.3|              44.6|                      295.0|                  25.94|                      8.07|\n",
      "|Abu Dhabi|2019-07-31|         3.0|              39.8|              33.1|               35.7|                    43.3|                    37.4|                     41.0|2019-07-31T01:50|2019-07-31T15:07|         47817.52|         34974.43|              0.0|     0.0|         0.0|                0.0|              23.6|              38.2|                      247.0|                   22.8|                      7.51|\n",
      "|Amsterdam|2010-06-24|         1.0|              22.6|              11.5|               17.6|                    23.5|                    11.0|                     17.5|2010-06-24T03:18|2010-06-24T20:07|         60487.05|         53971.32|              0.0|     0.0|         0.0|                0.0|              16.6|              30.2|                      282.0|                  26.61|                      4.51|\n",
      "+---------+----------+------------+------------------+------------------+-------------------+------------------------+------------------------+-------------------------+----------------+----------------+-----------------+-----------------+-----------------+--------+------------+-------------------+------------------+------------------+---------------------------+-----------------------+--------------------------+\n",
      "only showing top 20 rows\n",
      "\n"
     ]
    }
   ],
   "source": [
    "daily_data_1960_1969_cleaned = daily_data_1960_1969.dropna()\n",
    "\n",
    "# Filter out rows where numeric columns have non-numeric values\n",
    "daily_data_1960_1969_cleaned = daily_data_1960_1969_cleaned.filter(\n",
    "    col('temperature_2m_max').cast('double').isNotNull() &\n",
    "    col('temperature_2m_min').cast('double').isNotNull() &\n",
    "    col('temperature_2m_mean').cast('double').isNotNull()\n",
    ")\n",
    "\n",
    "# Replace empty strings with null for specific columns\n",
    "daily_data_1960_1969_cleaned = daily_data_1960_1969_cleaned.withColumn(\n",
    "    \"temperature_2m_max\",\n",
    "    when(col(\"temperature_2m_max\") == \"\", None).otherwise(col(\"temperature_2m_max\"))\n",
    ")\n",
    "\n",
    "# Remove duplicates\n",
    "daily_data_1960_1969_cleaned = daily_data_1960_1969_cleaned.dropDuplicates()\n",
    "\n",
    "# Show the cleaned data\n",
    "daily_data_1960_1969_cleaned.show()"
   ]
  },
  {
   "cell_type": "code",
   "execution_count": 27,
   "metadata": {
    "id": "6PPA8yvz0ySZ"
   },
   "outputs": [],
   "source": [
    "null_count = daily_data_1960_1969_cleaned.filter(\n",
    "    (col(\"temperature_2m_max\").isNull()) |\n",
    "    (col(\"temperature_2m_min\").isNull()) |\n",
    "    (col(\"temperature_2m_mean\").isNull()) |\n",
    "    (col(\"apparent_temperature_max\").isNull()) |\n",
    "    (col(\"apparent_temperature_min\").isNull()) |\n",
    "    (col(\"apparent_temperature_mean\").isNull()) |\n",
    "    (col(\"sunrise\").isNull()) |\n",
    "    (col(\"sunset\").isNull()) |\n",
    "    (col(\"daylight_duration\").isNull()) |\n",
    "    (col(\"sunshine_duration\").isNull()) |\n",
    "    (col(\"precipitation_sum\").isNull()) |\n",
    "    (col(\"rain_sum\").isNull()) |\n",
    "    (col(\"snowfall_sum\").isNull()) |\n",
    "    (col(\"precipitation_hours\").isNull()) |\n",
    "    (col(\"wind_speed_10m_max\").isNull()) |\n",
    "    (col(\"wind_gusts_10m_max\").isNull()) |\n",
    "    (col(\"wind_direction_10m_dominant\").isNull()) |\n",
    "    (col(\"shortwave_radiation_sum\").isNull()) |\n",
    "    (col(\"et0_fao_evapotranspiration\").isNull())\n",
    ").count()\n",
    "\n",
    "# 2. Remove rows with null values\n",
    "cleaned_data = daily_data_1960_1969.na.drop()"
   ]
  },
  {
   "cell_type": "code",
   "execution_count": 28,
   "metadata": {
    "colab": {
     "base_uri": "https://localhost:8080/"
    },
    "id": "shQXXf0c1F1y",
    "outputId": "f6fb0fcf-d89c-474b-d523-099ac47ce4c6"
   },
   "outputs": [
    {
     "name": "stdout",
     "output_type": "stream",
     "text": [
      "Data Cleanliness Percentage: 99.99945235487404%\n"
     ]
    }
   ],
   "source": [
    "source_count = daily_data_1960_1969.count()\n",
    "cleaned_count = cleaned_data.count()\n",
    "cleanliness_percentage = (cleaned_count / source_count) * 100\n",
    "\n",
    "# Display the cleanliness percentage\n",
    "print(f\"Data Cleanliness Percentage: {cleanliness_percentage}%\")"
   ]
  },
  {
   "cell_type": "markdown",
   "metadata": {},
   "source": [
    "#### for daily_units_2010_to_2019 dataset"
   ]
  },
  {
   "cell_type": "code",
   "execution_count": 29,
   "metadata": {
    "colab": {
     "base_uri": "https://localhost:8080/"
    },
    "id": "EB_CVYGwoiUi",
    "outputId": "25cdf8f3-6920-4c8d-e47b-c006498d1654"
   },
   "outputs": [
    {
     "name": "stdout",
     "output_type": "stream",
     "text": [
      "+-------+------------+------------------+------------------+-------------------+------------------------+------------------------+-------------------------+-------+-------+-----------------+-----------------+-----------------+--------+------------+-------------------+------------------+------------------+---------------------------+-----------------------+--------------------------+\n",
      "|   time|weather_code|temperature_2m_max|temperature_2m_min|temperature_2m_mean|apparent_temperature_max|apparent_temperature_min|apparent_temperature_mean|sunrise| sunset|daylight_duration|sunshine_duration|precipitation_sum|rain_sum|snowfall_sum|precipitation_hours|wind_speed_10m_max|wind_gusts_10m_max|wind_direction_10m_dominant|shortwave_radiation_sum|et0_fao_evapotranspiration|\n",
      "+-------+------------+------------------+------------------+-------------------+------------------------+------------------------+-------------------------+-------+-------+-----------------+-----------------+-----------------+--------+------------+-------------------+------------------+------------------+---------------------------+-----------------------+--------------------------+\n",
      "|iso8601|    wmo code|                °C|                °C|                 °C|                      °C|                      °C|                       °C|iso8601|iso8601|                s|                s|               mm|      mm|          cm|                  h|              km/h|              km/h|                          °|                  MJ/m²|                        mm|\n",
      "+-------+------------+------------------+------------------+-------------------+------------------------+------------------------+-------------------------+-------+-------+-----------------+-----------------+-----------------+--------+------------+-------------------+------------------+------------------+---------------------------+-----------------------+--------------------------+\n",
      "\n"
     ]
    }
   ],
   "source": [
    "daily_units=spark.read.option(\"Header\",True).option(\"delimiter\",\",\").csv('Datasets/daily_units_2010_to_2019.csv')\n",
    "daily_units.show()"
   ]
  },
  {
   "cell_type": "code",
   "execution_count": 30,
   "metadata": {
    "colab": {
     "base_uri": "https://localhost:8080/"
    },
    "id": "RVOv-QkisuXb",
    "outputId": "86bbd8e5-2a70-45eb-fb1d-c96e84b3e84e"
   },
   "outputs": [
    {
     "name": "stdout",
     "output_type": "stream",
     "text": [
      "+--------------+----------------------+----------------------------+----------------------------+-----------------------------+----------------------------------+----------------------------------+-----------------------------------+-----------------+----------------+---------------------------+---------------------------+---------------------------+------------------+----------------------+-----------------------------+----------------------------+----------------------------+-------------------------------------+---------------------------------+------------------------------------+\n",
      "|time_fill_rate|weather_code_fill_rate|temperature_2m_max_fill_rate|temperature_2m_min_fill_rate|temperature_2m_mean_fill_rate|apparent_temperature_max_fill_rate|apparent_temperature_min_fill_rate|apparent_temperature_mean_fill_rate|sunrise_fill_rate|sunset_fill_rate|daylight_duration_fill_rate|sunshine_duration_fill_rate|precipitation_sum_fill_rate|rain_sum_fill_rate|snowfall_sum_fill_rate|precipitation_hours_fill_rate|wind_speed_10m_max_fill_rate|wind_gusts_10m_max_fill_rate|wind_direction_10m_dominant_fill_rate|shortwave_radiation_sum_fill_rate|et0_fao_evapotranspiration_fill_rate|\n",
      "+--------------+----------------------+----------------------------+----------------------------+-----------------------------+----------------------------------+----------------------------------+-----------------------------------+-----------------+----------------+---------------------------+---------------------------+---------------------------+------------------+----------------------+-----------------------------+----------------------------+----------------------------+-------------------------------------+---------------------------------+------------------------------------+\n",
      "|         100.0|                 100.0|                       100.0|                       100.0|                        100.0|                             100.0|                             100.0|                              100.0|            100.0|           100.0|                      100.0|                      100.0|                      100.0|             100.0|                 100.0|                        100.0|                       100.0|                       100.0|                                100.0|                            100.0|                               100.0|\n",
      "+--------------+----------------------+----------------------------+----------------------------+-----------------------------+----------------------------------+----------------------------------+-----------------------------------+-----------------+----------------+---------------------------+---------------------------+---------------------------+------------------+----------------------+-----------------------------+----------------------------+----------------------------+-------------------------------------+---------------------------------+------------------------------------+\n",
      "\n"
     ]
    }
   ],
   "source": [
    "# Get total number of records\n",
    "total_records = daily_units.count()\n",
    "\n",
    "# Calculate the number of valid (non-null and non-garbage) values for each column\n",
    "fill_rate_report = (\n",
    "    daily_units.select(\n",
    "        *[\n",
    "            (count(when(col(column).isNotNull() & (col(column) != ''), column)) / total_records * 100)\n",
    "            .alias(f\"{column}_fill_rate\")\n",
    "            for column in daily_units.columns\n",
    "        ]\n",
    "    )\n",
    ")\n",
    "\n",
    "# Show the fill rate report\n",
    "fill_rate_report.show()\n"
   ]
  },
  {
   "cell_type": "markdown",
   "metadata": {},
   "source": [
    "#### for hour_units_2010_to_2019 dataset"
   ]
  },
  {
   "cell_type": "code",
   "execution_count": 31,
   "metadata": {
    "colab": {
     "base_uri": "https://localhost:8080/"
    },
    "id": "fu7KkmwvouFH",
    "outputId": "ce8ecc0b-5325-4ee0-c1cf-f9d113f16223"
   },
   "outputs": [
    {
     "name": "stdout",
     "output_type": "stream",
     "text": [
      "+-------+--------------+--------------------+------------+--------------------+-------------+----+--------+----------+------------+------------+----------------+-----------+---------------+---------------+----------------+--------------------------+-----------------------+--------------+---------------+------------------+-------------------+--------------+-------------------------+--------------------------+----------------------------+-----------------------------+----------------------+-----------------------+-------------------------+--------------------------+-------------------+----------------+-----------------+------------------------+------------------------+---------------------+---------------------------+------------------------+-------------------------+--------------------------------+--------------------------------+-----------------------------+\n",
      "|   time|temperature_2m|relative_humidity_2m|dew_point_2m|apparent_temperature|precipitation|rain|snowfall|snow_depth|weather_code|pressure_msl|surface_pressure|cloud_cover|cloud_cover_low|cloud_cover_mid|cloud_cover_high|et0_fao_evapotranspiration|vapour_pressure_deficit|wind_speed_10m|wind_speed_100m|wind_direction_10m|wind_direction_100m|wind_gusts_10m|soil_temperature_0_to_7cm|soil_temperature_7_to_28cm|soil_temperature_28_to_100cm|soil_temperature_100_to_255cm|soil_moisture_0_to_7cm|soil_moisture_7_to_28cm|soil_moisture_28_to_100cm|soil_moisture_100_to_255cm|shortwave_radiation|direct_radiation|diffuse_radiation|direct_normal_irradiance|global_tilted_irradiance|terrestrial_radiation|shortwave_radiation_instant|direct_radiation_instant|diffuse_radiation_instant|direct_normal_irradiance_instant|global_tilted_irradiance_instant|terrestrial_radiation_instant|\n",
      "+-------+--------------+--------------------+------------+--------------------+-------------+----+--------+----------+------------+------------+----------------+-----------+---------------+---------------+----------------+--------------------------+-----------------------+--------------+---------------+------------------+-------------------+--------------+-------------------------+--------------------------+----------------------------+-----------------------------+----------------------+-----------------------+-------------------------+--------------------------+-------------------+----------------+-----------------+------------------------+------------------------+---------------------+---------------------------+------------------------+-------------------------+--------------------------------+--------------------------------+-----------------------------+\n",
      "|iso8601|            °C|                   %|          °C|                  °C|           mm|  mm|      cm|         m|    wmo code|         hPa|             hPa|          %|              %|              %|               %|                        mm|                    kPa|          km/h|           km/h|                 °|                  °|          km/h|                       °C|                        °C|                          °C|                           °C|                 m³/m³|                  m³/m³|                    m³/m³|                     m³/m³|               W/m²|            W/m²|             W/m²|                    W/m²|                    W/m²|                 W/m²|                       W/m²|                    W/m²|                     W/m²|                            W/m²|                            W/m²|                         W/m²|\n",
      "+-------+--------------+--------------------+------------+--------------------+-------------+----+--------+----------+------------+------------+----------------+-----------+---------------+---------------+----------------+--------------------------+-----------------------+--------------+---------------+------------------+-------------------+--------------+-------------------------+--------------------------+----------------------------+-----------------------------+----------------------+-----------------------+-------------------------+--------------------------+-------------------+----------------+-----------------+------------------------+------------------------+---------------------+---------------------------+------------------------+-------------------------+--------------------------------+--------------------------------+-----------------------------+\n",
      "\n"
     ]
    }
   ],
   "source": [
    "hourly_units=spark.read.option(\"Header\",True).option(\"delimiter\",\",\").csv('Datasets/hour_units_2010_to_2019.csv')\n",
    "hourly_units.show()"
   ]
  },
  {
   "cell_type": "code",
   "execution_count": 32,
   "metadata": {
    "colab": {
     "base_uri": "https://localhost:8080/"
    },
    "id": "HkXdwWUVs8Zd",
    "outputId": "087ed517-7db4-4123-8da0-7df28140adc5"
   },
   "outputs": [
    {
     "name": "stdout",
     "output_type": "stream",
     "text": [
      "+--------------+------------------------+------------------------------+----------------------+------------------------------+-----------------------+--------------+------------------+--------------------+----------------------+----------------------+--------------------------+---------------------+-------------------------+-------------------------+--------------------------+------------------------------------+---------------------------------+------------------------+-------------------------+----------------------------+-----------------------------+------------------------+-----------------------------------+------------------------------------+--------------------------------------+---------------------------------------+--------------------------------+---------------------------------+-----------------------------------+------------------------------------+-----------------------------+--------------------------+---------------------------+----------------------------------+----------------------------------+-------------------------------+-------------------------------------+----------------------------------+-----------------------------------+------------------------------------------+------------------------------------------+---------------------------------------+\n",
      "|time_fill_rate|temperature_2m_fill_rate|relative_humidity_2m_fill_rate|dew_point_2m_fill_rate|apparent_temperature_fill_rate|precipitation_fill_rate|rain_fill_rate|snowfall_fill_rate|snow_depth_fill_rate|weather_code_fill_rate|pressure_msl_fill_rate|surface_pressure_fill_rate|cloud_cover_fill_rate|cloud_cover_low_fill_rate|cloud_cover_mid_fill_rate|cloud_cover_high_fill_rate|et0_fao_evapotranspiration_fill_rate|vapour_pressure_deficit_fill_rate|wind_speed_10m_fill_rate|wind_speed_100m_fill_rate|wind_direction_10m_fill_rate|wind_direction_100m_fill_rate|wind_gusts_10m_fill_rate|soil_temperature_0_to_7cm_fill_rate|soil_temperature_7_to_28cm_fill_rate|soil_temperature_28_to_100cm_fill_rate|soil_temperature_100_to_255cm_fill_rate|soil_moisture_0_to_7cm_fill_rate|soil_moisture_7_to_28cm_fill_rate|soil_moisture_28_to_100cm_fill_rate|soil_moisture_100_to_255cm_fill_rate|shortwave_radiation_fill_rate|direct_radiation_fill_rate|diffuse_radiation_fill_rate|direct_normal_irradiance_fill_rate|global_tilted_irradiance_fill_rate|terrestrial_radiation_fill_rate|shortwave_radiation_instant_fill_rate|direct_radiation_instant_fill_rate|diffuse_radiation_instant_fill_rate|direct_normal_irradiance_instant_fill_rate|global_tilted_irradiance_instant_fill_rate|terrestrial_radiation_instant_fill_rate|\n",
      "+--------------+------------------------+------------------------------+----------------------+------------------------------+-----------------------+--------------+------------------+--------------------+----------------------+----------------------+--------------------------+---------------------+-------------------------+-------------------------+--------------------------+------------------------------------+---------------------------------+------------------------+-------------------------+----------------------------+-----------------------------+------------------------+-----------------------------------+------------------------------------+--------------------------------------+---------------------------------------+--------------------------------+---------------------------------+-----------------------------------+------------------------------------+-----------------------------+--------------------------+---------------------------+----------------------------------+----------------------------------+-------------------------------+-------------------------------------+----------------------------------+-----------------------------------+------------------------------------------+------------------------------------------+---------------------------------------+\n",
      "|         100.0|                   100.0|                         100.0|                 100.0|                         100.0|                  100.0|         100.0|             100.0|               100.0|                 100.0|                 100.0|                     100.0|                100.0|                    100.0|                    100.0|                     100.0|                               100.0|                            100.0|                   100.0|                    100.0|                       100.0|                        100.0|                   100.0|                              100.0|                               100.0|                                 100.0|                                  100.0|                           100.0|                            100.0|                              100.0|                               100.0|                        100.0|                     100.0|                      100.0|                             100.0|                             100.0|                          100.0|                                100.0|                             100.0|                              100.0|                                     100.0|                                     100.0|                                  100.0|\n",
      "+--------------+------------------------+------------------------------+----------------------+------------------------------+-----------------------+--------------+------------------+--------------------+----------------------+----------------------+--------------------------+---------------------+-------------------------+-------------------------+--------------------------+------------------------------------+---------------------------------+------------------------+-------------------------+----------------------------+-----------------------------+------------------------+-----------------------------------+------------------------------------+--------------------------------------+---------------------------------------+--------------------------------+---------------------------------+-----------------------------------+------------------------------------+-----------------------------+--------------------------+---------------------------+----------------------------------+----------------------------------+-------------------------------+-------------------------------------+----------------------------------+-----------------------------------+------------------------------------------+------------------------------------------+---------------------------------------+\n",
      "\n"
     ]
    }
   ],
   "source": [
    "\n",
    "\n",
    "# Get total number of records\n",
    "total_records = hourly_units.count()\n",
    "\n",
    "# Calculate the number of valid (non-null and non-garbage) values for each column\n",
    "fill_rate_report = (\n",
    "    hourly_units.select(\n",
    "        *[\n",
    "            (count(when(col(column).isNotNull() & (col(column) != ''), column)) / total_records * 100)\n",
    "            .alias(f\"{column}_fill_rate\")\n",
    "            for column in hourly_units.columns\n",
    "        ]\n",
    "    )\n",
    ")\n",
    "\n",
    "# Show the fill rate report\n",
    "fill_rate_report.show()\n"
   ]
  },
  {
   "cell_type": "markdown",
   "metadata": {},
   "source": [
    "#### for hourly_data_combined_2010_to_2019 dataset"
   ]
  },
  {
   "cell_type": "code",
   "execution_count": 33,
   "metadata": {
    "colab": {
     "base_uri": "https://localhost:8080/"
    },
    "id": "3cRUkYb5pXzK",
    "outputId": "fb4beade-c85f-438b-e080-07b6e8463247"
   },
   "outputs": [
    {
     "name": "stdout",
     "output_type": "stream",
     "text": [
      "+---------+-------------------+--------------+--------------------+------------+--------------------+-------------+----+--------+----------+------------+------------+----------------+-----------+---------------+---------------+----------------+--------------------------+-----------------------+--------------+---------------+------------------+-------------------+--------------+-------------------------+--------------------------+----------------------------+-----------------------------+----------------------+-----------------------+-------------------------+--------------------------+-------------------+----------------+-----------------+------------------------+------------------------+---------------------+---------------------------+------------------------+-------------------------+--------------------------------+--------------------------------+-----------------------------+\n",
      "|city_name|           datetime|temperature_2m|relative_humidity_2m|dew_point_2m|apparent_temperature|precipitation|rain|snowfall|snow_depth|weather_code|pressure_msl|surface_pressure|cloud_cover|cloud_cover_low|cloud_cover_mid|cloud_cover_high|et0_fao_evapotranspiration|vapour_pressure_deficit|wind_speed_10m|wind_speed_100m|wind_direction_10m|wind_direction_100m|wind_gusts_10m|soil_temperature_0_to_7cm|soil_temperature_7_to_28cm|soil_temperature_28_to_100cm|soil_temperature_100_to_255cm|soil_moisture_0_to_7cm|soil_moisture_7_to_28cm|soil_moisture_28_to_100cm|soil_moisture_100_to_255cm|shortwave_radiation|direct_radiation|diffuse_radiation|direct_normal_irradiance|global_tilted_irradiance|terrestrial_radiation|shortwave_radiation_instant|direct_radiation_instant|diffuse_radiation_instant|direct_normal_irradiance_instant|global_tilted_irradiance_instant|terrestrial_radiation_instant|\n",
      "+---------+-------------------+--------------+--------------------+------------+--------------------+-------------+----+--------+----------+------------+------------+----------------+-----------+---------------+---------------+----------------+--------------------------+-----------------------+--------------+---------------+------------------+-------------------+--------------+-------------------------+--------------------------+----------------------------+-----------------------------+----------------------+-----------------------+-------------------------+--------------------------+-------------------+----------------+-----------------+------------------------+------------------------+---------------------+---------------------------+------------------------+-------------------------+--------------------------------+--------------------------------+-----------------------------+\n",
      "|Abu Dhabi|2010-01-01 00:00:00|          15.1|                94.0|        14.2|                15.0|          0.0| 0.0|     0.0|       0.0|         0.0|      1012.1|          1011.4|        0.0|            0.0|            0.0|             0.0|                       0.0|                    0.1|          10.6|           17.0|             108.0|               94.0|          14.8|                     15.0|                      23.0|                        25.7|                         32.7|                 0.039|                  0.085|                    0.055|                     0.038|                0.0|             0.0|              0.0|                     0.0|                     0.0|                  0.0|                        0.0|                     0.0|                      0.0|                             0.0|                             0.0|                          0.0|\n",
      "|Abu Dhabi|2010-01-01 01:00:00|          14.4|                95.0|        13.6|                14.2|          0.0| 0.0|     0.0|       0.0|         0.0|      1012.4|          1011.7|        0.0|            0.0|            0.0|             0.0|                       0.0|                   0.09|           9.2|           13.1|             129.0|              106.0|          13.3|                     14.5|                      22.8|                        25.7|                         32.7|                 0.039|                  0.085|                    0.055|                     0.038|                0.0|             0.0|              0.0|                     0.0|                     0.0|                  0.0|                        0.0|                     0.0|                      0.0|                             0.0|                             0.0|                          0.0|\n",
      "|Abu Dhabi|2010-01-01 02:00:00|          13.9|                94.0|        12.9|                13.2|          0.0| 0.0|     0.0|       0.0|         0.0|      1012.6|          1011.9|        0.0|            0.0|            0.0|             0.0|                       0.0|                    0.1|          10.7|           12.3|             147.0|              128.0|          13.3|                     14.1|                      22.6|                        25.7|                         32.7|                 0.039|                  0.085|                    0.055|                     0.038|                0.0|             0.0|              0.0|                     0.0|                     0.0|                  0.0|                        0.0|                     0.0|                      0.0|                             0.0|                             0.0|                          0.0|\n",
      "|Abu Dhabi|2010-01-01 03:00:00|          13.4|                92.0|        12.2|                12.4|          0.0| 0.0|     0.0|       0.0|         0.0|      1013.2|          1012.5|        1.0|            0.0|            2.0|             0.0|                       0.0|                   0.12|          11.5|           13.9|             160.0|              149.0|          14.0|                     13.6|                      22.3|                        25.6|                         32.7|                 0.039|                  0.085|                    0.055|                     0.038|                0.0|             0.0|              0.0|                     0.0|                     0.0|                  0.0|                        0.0|                     0.0|                      0.0|                             0.0|                             0.0|                          0.0|\n",
      "|Abu Dhabi|2010-01-01 04:00:00|          13.6|                89.0|        11.9|                12.8|          0.0| 0.0|     0.0|       0.0|         0.0|      1013.7|          1013.0|        2.0|            0.0|            3.0|             2.0|                      0.02|                   0.16|           9.8|           13.4|             174.0|              172.0|          14.0|                     13.9|                      22.1|                        25.6|                         32.7|                 0.039|                  0.085|                    0.055|                     0.038|               45.0|            24.0|             21.0|                   194.9|                    45.0|                113.5|                       96.9|                    51.7|                     45.2|                           299.0|                            63.2|                        244.5|\n",
      "|Abu Dhabi|2010-01-01 05:00:00|          16.7|                71.0|        11.4|                15.9|          0.0| 0.0|     0.0|       0.0|         0.0|      1014.6|          1013.9|       13.0|            0.0|           16.0|            10.0|                      0.12|                   0.55|           8.0|           12.8|             198.0|              202.0|          14.4|                     16.7|                      22.0|                        25.6|                         32.7|                 0.039|                  0.085|                    0.055|                     0.038|              218.0|           146.0|             72.0|                   542.9|                   218.0|                380.4|                      291.9|                   195.5|                     96.4|                           542.9|                           291.9|                        509.4|\n",
      "|Abu Dhabi|2010-01-01 06:00:00|          19.4|                58.0|        11.0|                18.4|          0.0| 0.0|     0.0|       0.0|         1.0|      1015.2|          1014.5|       24.0|            0.0|           25.0|            29.0|                      0.24|                   0.95|           8.7|           12.6|             232.0|              233.0|          14.8|                     21.1|                      22.0|                        25.6|                         32.7|                 0.039|                  0.085|                    0.055|                     0.038|              381.0|           263.0|            118.0|                   598.5|                   381.0|                621.6|                      443.8|                   306.4|                    137.5|                           598.5|                           443.8|                        724.1|\n",
      "|Abu Dhabi|2010-01-01 07:00:00|          22.4|                50.0|        11.5|                20.8|          0.0| 0.0|     0.0|       0.0|         2.0|      1014.8|          1014.1|       53.0|            0.0|           60.0|            57.0|                      0.36|                   1.35|          14.0|           16.2|             271.0|              271.0|          22.7|                     25.8|                      22.2|                        25.6|                         32.7|                 0.039|                  0.085|                    0.055|                     0.038|              521.0|           380.0|            141.0|                   667.9|                   521.0|                804.8|                      565.6|                   412.6|                    153.1|                           667.9|                           565.6|                        873.8|\n",
      "|Abu Dhabi|2010-01-01 08:00:00|          23.2|                52.0|        12.7|                21.6|          0.0| 0.0|     0.0|       0.0|         1.0|      1014.4|          1013.7|       47.0|            0.0|           49.0|            58.0|                      0.39|                   1.37|          17.0|           18.9|             291.0|              291.0|          28.4|                     29.0|                      22.4|                        25.6|                         32.7|                  0.04|                  0.085|                    0.055|                     0.038|              555.0|           378.0|            177.0|                   582.7|                   555.0|                917.6|                      573.6|                   390.7|                    182.9|                           582.7|                           573.6|                        948.4|\n",
      "|Abu Dhabi|2010-01-01 09:00:00|          23.4|                50.0|        12.4|                22.3|          0.0| 0.0|     0.0|       0.0|         1.0|      1013.6|          1012.9|       39.0|            0.0|           61.0|             8.0|                      0.42|                   1.44|          14.9|           16.4|             302.0|              303.0|          29.9|                     31.1|                      22.7|                        25.6|                         32.7|                  0.04|                  0.085|                    0.055|                     0.038|              607.0|           404.0|            203.0|                   600.1|                   607.0|                952.4|                      600.9|                   399.9|                    201.0|                           600.1|                           600.9|                        942.8|\n",
      "|Abu Dhabi|2010-01-01 10:00:00|          23.0|                49.0|        11.6|                21.1|          0.0| 0.0|     0.0|       0.0|         1.0|      1012.5|          1011.8|       31.0|            0.0|           51.0|             1.0|                      0.39|                   1.44|          16.5|           17.9|             293.0|              292.0|          30.6|                     32.0|                      23.0|                        25.6|                         32.7|                 0.041|                  0.085|                    0.055|                     0.038|              544.0|           373.0|            171.0|                   582.0|                   544.0|                906.6|                      514.5|                   352.7|                    161.7|                           582.0|                           514.5|                        857.4|\n",
      "|Abu Dhabi|2010-01-01 11:00:00|          22.4|                56.0|        13.1|                20.8|          0.3| 0.3|     0.0|       0.0|        51.0|      1012.5|          1011.8|       23.0|            0.0|           39.0|             0.0|                      0.32|                   1.19|          17.2|           18.8|             296.0|              296.0|          31.7|                     31.7|                      23.2|                        25.6|                         32.7|                 0.045|                  0.085|                    0.055|                     0.038|              449.0|           300.0|            149.0|                   541.6|                   449.0|                783.6|                      400.0|                   267.3|                    132.7|                           541.6|                           400.0|                        698.0|\n",
      "|Abu Dhabi|2010-01-01 12:00:00|          22.2|                57.0|        13.2|                20.6|          0.0| 0.0|     0.0|       0.0|         1.0|      1012.6|          1011.9|       26.0|            0.0|           40.0|             7.0|                      0.25|                   1.16|          17.6|           19.5|             298.0|              298.0|          30.2|                     29.9|                      23.5|                        25.6|                         32.7|                 0.045|                  0.085|                    0.055|                     0.038|              322.0|           202.0|            120.0|                   483.1|                   322.0|                591.5|                      258.8|                   162.4|                     96.5|                           483.1|                           258.8|                        475.5|\n",
      "|Abu Dhabi|2010-01-01 13:00:00|          22.0|                57.0|        13.2|                20.2|          0.0| 0.0|     0.0|       0.0|         1.0|      1012.6|          1011.9|       27.0|            0.0|           44.0|             1.0|                      0.18|                   1.13|          19.3|           22.1|             299.0|              298.0|          26.3|                     27.6|                      23.6|                        25.6|                         32.7|                 0.045|                  0.085|                    0.055|                     0.038|              156.0|            85.0|             71.0|                   350.0|                   156.0|                343.6|                       93.1|                    50.7|                     42.4|                           350.0|                            93.1|                        205.0|\n",
      "|Abu Dhabi|2010-01-01 14:00:00|          21.1|                64.0|        14.0|                19.6|          0.0| 0.0|     0.0|       0.0|         0.0|      1013.1|          1012.4|       12.0|            2.0|           17.0|             1.0|                       0.1|                    0.9|          19.1|           23.7|             292.0|              292.0|          29.2|                     24.8|                      23.7|                        25.6|                         32.7|                 0.044|                  0.085|                    0.055|                     0.038|               28.0|            12.0|             16.0|                   110.1|                    28.0|                 93.3|                        0.0|                     0.0|                      0.0|                             0.0|                             0.0|                          0.0|\n",
      "|Abu Dhabi|2010-01-01 15:00:00|          20.0|                71.0|        14.6|                18.6|          0.0| 0.0|     0.0|       0.0|         0.0|      1013.9|          1013.2|       14.0|            6.0|           13.0|             3.0|                      0.06|                   0.68|          20.0|           26.0|             293.0|              294.0|          31.3|                     22.4|                      23.7|                        25.6|                         32.7|                 0.044|                  0.085|                    0.055|                     0.038|                0.0|             0.0|              0.0|                     0.0|                     0.0|                  0.0|                        0.0|                     0.0|                      0.0|                             0.0|                             0.0|                          0.0|\n",
      "|Abu Dhabi|2010-01-01 16:00:00|          19.4|                76.0|        15.0|                17.8|          0.0| 0.0|     0.0|       0.0|         0.0|      1014.6|          1013.9|       18.0|           13.0|            9.0|             2.0|                      0.06|                   0.55|          21.9|           29.3|             295.0|              296.0|          31.3|                     20.9|                      23.6|                        25.6|                         32.7|                 0.044|                  0.085|                    0.055|                     0.038|                0.0|             0.0|              0.0|                     0.0|                     0.0|                  0.0|                        0.0|                     0.0|                      0.0|                             0.0|                             0.0|                          0.0|\n",
      "|Abu Dhabi|2010-01-01 17:00:00|          19.1|                77.0|        15.0|                17.4|          0.0| 0.0|     0.0|       0.0|         1.0|      1015.2|          1014.5|       26.0|           19.0|           15.0|             0.0|                      0.05|                   0.51|          23.2|           31.1|             298.0|              298.0|          31.3|                     19.9|                      23.5|                        25.6|                         32.7|                 0.044|                  0.085|                    0.055|                     0.038|                0.0|             0.0|              0.0|                     0.0|                     0.0|                  0.0|                        0.0|                     0.0|                      0.0|                             0.0|                             0.0|                          0.0|\n",
      "|Abu Dhabi|2010-01-01 18:00:00|          19.0|                74.0|        14.4|                17.0|          0.0| 0.0|     0.0|       0.0|         0.0|      1015.5|          1014.8|       16.0|            9.0|           13.0|             0.0|                      0.06|                   0.56|          23.8|           32.7|             302.0|              302.0|          31.7|                     19.2|                      23.4|                        25.6|                         32.7|                 0.045|                  0.085|                    0.055|                     0.038|                0.0|             0.0|              0.0|                     0.0|                     0.0|                  0.0|                        0.0|                     0.0|                      0.0|                             0.0|                             0.0|                          0.0|\n",
      "|Abu Dhabi|2010-01-01 19:00:00|          19.0|                75.0|        14.5|                17.0|          0.0| 0.0|     0.0|       0.0|         1.0|      1015.6|          1014.9|       28.0|           16.0|           22.0|             0.0|                      0.06|                   0.55|          23.7|           32.6|             306.0|              307.0|          33.8|                     18.7|                      23.3|                        25.6|                         32.7|                 0.046|                  0.085|                    0.055|                     0.038|                0.0|             0.0|              0.0|                     0.0|                     0.0|                  0.0|                        0.0|                     0.0|                      0.0|                             0.0|                             0.0|                          0.0|\n",
      "+---------+-------------------+--------------+--------------------+------------+--------------------+-------------+----+--------+----------+------------+------------+----------------+-----------+---------------+---------------+----------------+--------------------------+-----------------------+--------------+---------------+------------------+-------------------+--------------+-------------------------+--------------------------+----------------------------+-----------------------------+----------------------+-----------------------+-------------------------+--------------------------+-------------------+----------------+-----------------+------------------------+------------------------+---------------------+---------------------------+------------------------+-------------------------+--------------------------------+--------------------------------+-----------------------------+\n",
      "only showing top 20 rows\n",
      "\n"
     ]
    }
   ],
   "source": [
    "hourly_data_2010_2019=spark.read.option(\"Header\",True).option(\"delimiter\",\",\").csv('Datasets/hourly_data_combined_2010_to_2019.csv')\n",
    "hourly_data_2010_2019.show()"
   ]
  },
  {
   "cell_type": "code",
   "execution_count": 34,
   "metadata": {
    "colab": {
     "base_uri": "https://localhost:8080/"
    },
    "id": "AKr-x5_MtPvO",
    "outputId": "f495a0c1-42b6-4ebd-f77c-01a0bf00a5fb"
   },
   "outputs": [
    {
     "name": "stdout",
     "output_type": "stream",
     "text": [
      "+-------------------+------------------+------------------------+------------------------------+----------------------+------------------------------+-----------------------+--------------+------------------+--------------------+----------------------+----------------------+--------------------------+---------------------+-------------------------+-------------------------+--------------------------+------------------------------------+---------------------------------+------------------------+-------------------------+----------------------------+-----------------------------+------------------------+-----------------------------------+------------------------------------+--------------------------------------+---------------------------------------+--------------------------------+---------------------------------+-----------------------------------+------------------------------------+-----------------------------+--------------------------+---------------------------+----------------------------------+----------------------------------+-------------------------------+-------------------------------------+----------------------------------+-----------------------------------+------------------------------------------+------------------------------------------+---------------------------------------+\n",
      "|city_name_fill_rate|datetime_fill_rate|temperature_2m_fill_rate|relative_humidity_2m_fill_rate|dew_point_2m_fill_rate|apparent_temperature_fill_rate|precipitation_fill_rate|rain_fill_rate|snowfall_fill_rate|snow_depth_fill_rate|weather_code_fill_rate|pressure_msl_fill_rate|surface_pressure_fill_rate|cloud_cover_fill_rate|cloud_cover_low_fill_rate|cloud_cover_mid_fill_rate|cloud_cover_high_fill_rate|et0_fao_evapotranspiration_fill_rate|vapour_pressure_deficit_fill_rate|wind_speed_10m_fill_rate|wind_speed_100m_fill_rate|wind_direction_10m_fill_rate|wind_direction_100m_fill_rate|wind_gusts_10m_fill_rate|soil_temperature_0_to_7cm_fill_rate|soil_temperature_7_to_28cm_fill_rate|soil_temperature_28_to_100cm_fill_rate|soil_temperature_100_to_255cm_fill_rate|soil_moisture_0_to_7cm_fill_rate|soil_moisture_7_to_28cm_fill_rate|soil_moisture_28_to_100cm_fill_rate|soil_moisture_100_to_255cm_fill_rate|shortwave_radiation_fill_rate|direct_radiation_fill_rate|diffuse_radiation_fill_rate|direct_normal_irradiance_fill_rate|global_tilted_irradiance_fill_rate|terrestrial_radiation_fill_rate|shortwave_radiation_instant_fill_rate|direct_radiation_instant_fill_rate|diffuse_radiation_instant_fill_rate|direct_normal_irradiance_instant_fill_rate|global_tilted_irradiance_instant_fill_rate|terrestrial_radiation_instant_fill_rate|\n",
      "+-------------------+------------------+------------------------+------------------------------+----------------------+------------------------------+-----------------------+--------------+------------------+--------------------+----------------------+----------------------+--------------------------+---------------------+-------------------------+-------------------------+--------------------------+------------------------------------+---------------------------------+------------------------+-------------------------+----------------------------+-----------------------------+------------------------+-----------------------------------+------------------------------------+--------------------------------------+---------------------------------------+--------------------------------+---------------------------------+-----------------------------------+------------------------------------+-----------------------------+--------------------------+---------------------------+----------------------------------+----------------------------------+-------------------------------+-------------------------------------+----------------------------------+-----------------------------------+------------------------------------------+------------------------------------------+---------------------------------------+\n",
      "|              100.0|             100.0|                   100.0|                         100.0|                 100.0|                         100.0|                  100.0|         100.0|             100.0|                98.0|                 100.0|                 100.0|                     100.0|                100.0|                    100.0|                    100.0|                     100.0|                   99.99997718145308|                            100.0|                   100.0|                    100.0|                       100.0|                        100.0|                   100.0|                              100.0|                               100.0|                                 100.0|                                  100.0|                           100.0|                            100.0|                              100.0|                               100.0|                        100.0|                     100.0|                      100.0|                             100.0|                 99.99998859072655|              99.99997718145308|                                100.0|                             100.0|                              100.0|                                     100.0|                                     100.0|                                  100.0|\n",
      "+-------------------+------------------+------------------------+------------------------------+----------------------+------------------------------+-----------------------+--------------+------------------+--------------------+----------------------+----------------------+--------------------------+---------------------+-------------------------+-------------------------+--------------------------+------------------------------------+---------------------------------+------------------------+-------------------------+----------------------------+-----------------------------+------------------------+-----------------------------------+------------------------------------+--------------------------------------+---------------------------------------+--------------------------------+---------------------------------+-----------------------------------+------------------------------------+-----------------------------+--------------------------+---------------------------+----------------------------------+----------------------------------+-------------------------------+-------------------------------------+----------------------------------+-----------------------------------+------------------------------------------+------------------------------------------+---------------------------------------+\n",
      "\n"
     ]
    }
   ],
   "source": [
    "# Get total number of records\n",
    "total_records = hourly_data_2010_2019.count()\n",
    "\n",
    "# Calculate the number of valid (non-null and non-garbage) values for each column\n",
    "fill_rate_report = (\n",
    "    hourly_data_2010_2019.select(\n",
    "        *[\n",
    "            (count(when(col(column).isNotNull() & (col(column) != ''), column)) / total_records * 100)\n",
    "            .alias(f\"{column}_fill_rate\")\n",
    "            for column in hourly_data_2010_2019.columns\n",
    "        ]\n",
    "    )\n",
    ")\n",
    "\n",
    "# Show the fill rate report\n",
    "fill_rate_report.show()\n"
   ]
  },
  {
   "cell_type": "code",
   "execution_count": 35,
   "metadata": {
    "colab": {
     "base_uri": "https://localhost:8080/"
    },
    "id": "qqPcyJNDuvOH",
    "outputId": "05c51f0c-bbde-495f-bd8d-7137af13e3a3"
   },
   "outputs": [
    {
     "name": "stdout",
     "output_type": "stream",
     "text": [
      "+---------+-------------------+--------------+--------------------+------------+--------------------+-------------+----+--------+----------+------------+------------+----------------+-----------+---------------+---------------+----------------+--------------------------+-----------------------+--------------+---------------+------------------+-------------------+--------------+-------------------------+--------------------------+----------------------------+-----------------------------+----------------------+-----------------------+-------------------------+--------------------------+-------------------+----------------+-----------------+------------------------+------------------------+---------------------+---------------------------+------------------------+-------------------------+--------------------------------+--------------------------------+-----------------------------+\n",
      "|city_name|           datetime|temperature_2m|relative_humidity_2m|dew_point_2m|apparent_temperature|precipitation|rain|snowfall|snow_depth|weather_code|pressure_msl|surface_pressure|cloud_cover|cloud_cover_low|cloud_cover_mid|cloud_cover_high|et0_fao_evapotranspiration|vapour_pressure_deficit|wind_speed_10m|wind_speed_100m|wind_direction_10m|wind_direction_100m|wind_gusts_10m|soil_temperature_0_to_7cm|soil_temperature_7_to_28cm|soil_temperature_28_to_100cm|soil_temperature_100_to_255cm|soil_moisture_0_to_7cm|soil_moisture_7_to_28cm|soil_moisture_28_to_100cm|soil_moisture_100_to_255cm|shortwave_radiation|direct_radiation|diffuse_radiation|direct_normal_irradiance|global_tilted_irradiance|terrestrial_radiation|shortwave_radiation_instant|direct_radiation_instant|diffuse_radiation_instant|direct_normal_irradiance_instant|global_tilted_irradiance_instant|terrestrial_radiation_instant|\n",
      "+---------+-------------------+--------------+--------------------+------------+--------------------+-------------+----+--------+----------+------------+------------+----------------+-----------+---------------+---------------+----------------+--------------------------+-----------------------+--------------+---------------+------------------+-------------------+--------------+-------------------------+--------------------------+----------------------------+-----------------------------+----------------------+-----------------------+-------------------------+--------------------------+-------------------+----------------+-----------------+------------------------+------------------------+---------------------+---------------------------+------------------------+-------------------------+--------------------------------+--------------------------------+-----------------------------+\n",
      "|Abu Dhabi|2010-01-23 03:00:00|          19.5|                84.0|        16.8|                20.1|          0.0| 0.0|     0.0|       0.0|         0.0|      1018.4|          1017.7|        1.0|            1.0|            0.0|             0.0|                      0.01|                   0.35|          12.1|           20.0|             300.0|              308.0|          16.9|                     18.1|                      23.2|                        24.5|                         31.8|                 0.038|                  0.085|                    0.055|                     0.038|                0.0|             0.0|              0.0|                     0.0|                     0.0|                  0.0|                        0.0|                     0.0|                      0.0|                             0.0|                             0.0|                          0.0|\n",
      "|Abu Dhabi|2010-01-30 11:00:00|          23.3|                47.0|        11.3|                22.6|          0.0| 0.0|     0.0|       0.0|         0.0|      1019.1|          1018.4|        0.0|            0.0|            0.0|             0.0|                      0.44|                   1.53|          11.9|           12.7|             325.0|              325.0|          25.2|                     37.0|                      22.6|                        24.7|                         31.5|                 0.038|                  0.084|                    0.055|                     0.038|              666.0|           550.0|            116.0|                   868.2|                   666.0|                893.1|                      604.4|                   499.2|                    105.3|                           868.2|                           604.4|                        810.5|\n",
      "|Abu Dhabi|2010-02-05 16:00:00|          20.3|                50.0|         9.6|                16.9|          0.0| 0.0|     0.0|       0.0|         2.0|      1013.4|          1012.7|       70.0|            0.0|           68.0|            99.0|                      0.14|                   1.18|          22.7|           27.9|             340.0|              340.0|          39.2|                     22.8|                      26.4|                        25.0|                         31.2|                 0.041|                  0.084|                    0.055|                     0.038|                0.0|             0.0|              0.0|                     0.0|                     0.0|                  0.0|                        0.0|                     0.0|                      0.0|                             0.0|                             0.0|                          0.0|\n",
      "|Abu Dhabi|2010-02-10 01:00:00|          16.0|                63.0|         9.0|                15.1|          0.0| 0.0|     0.0|       0.0|         0.0|      1016.2|          1015.5|        0.0|            0.0|            0.0|             0.0|                      0.01|                   0.67|           4.4|            7.3|             305.0|              327.0|           7.2|                     10.9|                      21.6|                        24.9|                         31.0|                 0.039|                  0.084|                    0.055|                     0.038|                0.0|             0.0|              0.0|                     0.0|                     0.0|                  0.0|                        0.0|                     0.0|                      0.0|                             0.0|                             0.0|                          0.0|\n",
      "|Abu Dhabi|2010-02-19 08:00:00|          26.5|                29.0|         7.1|                26.3|          0.0| 0.0|     0.0|       0.0|         0.0|      1015.8|          1015.1|        0.0|            0.0|            0.0|             0.0|                      0.57|                   2.45|           6.9|            8.3|             219.0|              214.0|          19.4|                     36.1|                      24.3|                        25.3|                         30.7|                 0.039|                  0.084|                    0.055|                     0.038|              810.0|           679.0|            131.0|                   879.7|                   810.0|               1080.7|                      839.7|                   703.9|                    135.8|                           879.7|                           839.7|                       1120.3|\n",
      "|Abu Dhabi|2010-02-23 11:00:00|          28.6|                26.0|         7.1|                28.5|          0.0| 0.0|     0.0|       0.0|         0.0|      1011.6|          1010.9|        0.0|            0.0|            0.0|             0.0|                      0.52|                    2.9|           3.7|            5.4|             241.0|              228.0|          17.3|                     44.2|                      25.4|                        25.6|                         30.6|                 0.037|                  0.084|                    0.055|                     0.038|              742.0|           613.0|            129.0|                   857.8|                   742.0|                998.9|                      679.2|                   561.1|                    118.1|                           857.8|                           679.2|                        914.3|\n",
      "|Abu Dhabi|2010-03-18 19:00:00|          25.1|                63.0|        17.4|                25.5|          0.0| 0.0|     0.0|       0.0|         0.0|      1013.6|          1012.9|        0.0|            0.0|            0.0|             0.0|                      0.08|                   1.19|          15.3|           24.0|              60.0|               64.0|          21.2|                     24.8|                      29.4|                        26.0|                         29.9|                  0.04|                  0.144|                    0.058|                     0.038|                0.0|             0.0|              0.0|                     0.0|                     0.0|                  0.0|                        0.0|                     0.0|                      0.0|                             0.0|                             0.0|                          0.0|\n",
      "|Abu Dhabi|2010-03-25 21:00:00|          22.1|                87.0|        19.7|                24.6|          0.0| 0.0|     0.0|       0.0|         0.0|      1009.0|          1008.3|        0.0|            0.0|            0.0|             0.0|                       0.0|                   0.36|           8.2|           15.3|             308.0|              319.0|          11.9|                     22.0|                      29.0|                        27.4|                         29.8|                  0.04|                  0.137|                    0.058|                     0.038|                0.0|             0.0|              0.0|                     0.0|                     0.0|                  0.0|                        0.0|                     0.0|                      0.0|                             0.0|                             0.0|                          0.0|\n",
      "|Abu Dhabi|2010-03-27 15:00:00|          37.8|                11.0|         2.3|                32.8|          0.0| 0.0|     0.0|       0.0|         0.0|      1004.2|          1003.5|        4.0|            0.0|            7.0|             0.0|                      0.43|                   5.82|          22.3|           33.4|             162.0|              164.0|          30.2|                     37.3|                      32.6|                        27.8|                         29.8|                 0.039|                  0.135|                    0.058|                     0.038|               10.0|             0.0|             10.0|                     0.0|                    10.0|                 78.8|                        0.0|                     0.0|                      0.0|                             0.0|                             0.0|                          0.0|\n",
      "|Abu Dhabi|2010-04-03 06:00:00|          28.2|                42.0|        14.2|                25.3|          0.0| 0.0|     0.0|       0.0|         0.0|      1014.4|          1013.7|        0.0|            0.0|            0.0|             0.0|                      0.58|                   2.21|          32.8|           40.9|             296.0|              297.0|          50.8|                     31.7|                      27.9|                        28.9|                         29.7|                 0.039|                  0.131|                    0.059|                     0.038|              679.0|           542.0|            137.0|                   786.9|                   679.0|                943.2|                      756.2|                   603.6|                    152.6|                           786.9|                           756.2|                       1050.5|\n",
      "|Abu Dhabi|2010-04-06 04:00:00|          22.5|                84.0|        19.7|                25.1|          0.0| 0.0|     0.0|       0.0|         0.0|      1011.6|          1010.9|        0.0|            0.0|            0.0|             0.0|                      0.13|                   0.44|           7.9|           10.9|             204.0|              197.0|          16.2|                     23.0|                      28.5|                        29.1|                         29.7|                 0.039|                  0.129|                    0.059|                     0.038|              215.0|           132.0|             83.0|                   441.4|                   215.0|                408.8|                      295.4|                   181.4|                    114.0|                           441.4|                           295.4|                        561.7|\n",
      "|Abu Dhabi|2010-04-10 10:00:00|          33.8|                33.0|        15.3|                34.5|          0.0| 0.0|     0.0|       0.0|         0.0|      1007.7|          1007.0|        2.0|            0.0|            3.0|             2.0|                      0.79|                   3.52|          19.6|           22.6|             340.0|              343.0|          36.4|                     44.8|                      32.6|                        30.0|                         29.7|                 0.039|                  0.127|                    0.059|                     0.038|              913.0|           695.0|            218.0|                   756.4|                   913.0|               1253.0|                      874.7|                   665.9|                    208.9|                           756.4|                           874.7|                       1200.5|\n",
      "|Abu Dhabi|2010-04-25 07:00:00|          30.4|                53.0|        19.6|                30.5|          0.0| 0.0|     0.0|       0.0|         2.0|      1010.3|          1009.6|       59.0|            0.0|           49.0|           100.0|                      0.46|                   2.05|          24.2|           28.2|             300.0|              300.0|          38.5|                     37.7|                      33.8|                        32.1|                         29.8|                 0.039|                  0.121|                    0.059|                     0.038|              482.0|           142.0|            340.0|                   161.8|                   482.0|               1186.8|                      509.0|                   149.9|                    359.0|                           161.8|                           509.0|                       1253.2|\n",
      "|Abu Dhabi|2010-05-03 01:00:00|          26.9|                83.0|        23.8|                30.8|          0.0| 0.0|     0.0|       0.0|         0.0|      1005.2|          1004.5|       18.0|            0.0|           13.0|            35.0|                      0.03|                    0.6|          13.8|           19.8|             290.0|              297.0|          14.4|                     27.4|                      35.4|                        33.1|                         29.9|                 0.038|                  0.118|                    0.059|                     0.038|                0.0|             0.0|              0.0|                     0.0|                     0.0|                  0.0|                        0.0|                     0.0|                      0.0|                             0.0|                             0.0|                          0.0|\n",
      "|Abu Dhabi|2010-05-06 02:00:00|          26.3|                56.0|        16.8|                26.6|          0.0| 0.0|     0.0|       0.0|         1.0|      1005.8|          1005.1|       30.0|            0.0|           40.0|            21.0|                      0.12|                   1.51|          14.2|           22.8|             324.0|              325.0|          25.2|                     25.2|                      31.4|                        33.2|                         30.0|                 0.039|                  0.117|                    0.059|                     0.038|                1.0|             0.0|              1.0|                     0.0|                     1.0|                 20.8|                        2.9|                     0.0|                      2.9|                             0.0|                             0.8|                         61.2|\n",
      "|Abu Dhabi|2010-05-12 21:00:00|          29.5|                55.0|        19.5|                32.7|          0.0| 0.0|     0.0|       0.0|         0.0|      1004.3|          1003.6|        0.0|            0.0|            0.0|             0.0|                      0.01|                   1.86|           3.0|            3.6|             104.0|               53.0|           5.4|                     27.5|                      36.4|                        33.5|                         30.1|                 0.038|                  0.116|                     0.06|                     0.038|                0.0|             0.0|              0.0|                     0.0|                     0.0|                  0.0|                        0.0|                     0.0|                      0.0|                             0.0|                             0.0|                          0.0|\n",
      "|Abu Dhabi|2010-05-30 09:00:00|          40.1|                29.0|        18.7|                44.0|          0.0| 0.0|     0.0|       0.0|         0.0|      1003.5|          1002.8|        0.0|            0.0|            0.0|             0.0|                      0.88|                   5.27|          11.6|           14.0|             234.0|              228.0|          28.1|                     54.3|                      37.6|                        35.2|                         30.6|                 0.035|                  0.112|                     0.06|                     0.038|              975.0|           791.0|            184.0|                   794.5|                   975.0|               1325.5|                      965.5|                   783.3|                    182.2|                           794.5|                           965.5|                       1312.5|\n",
      "|Abu Dhabi|2010-06-05 11:00:00|          37.1|                37.0|        20.2|                39.8|          0.0| 0.0|     0.0|       0.0|         0.0|      1000.8|          1000.1|        0.0|            0.0|            0.0|             0.0|                      0.75|                   3.95|          17.8|           18.6|             324.0|              324.0|          29.5|                     55.1|                      39.3|                        35.9|                         30.8|                 0.034|                  0.111|                     0.06|                     0.038|              808.0|           633.0|            175.0|                   729.8|                   808.0|               1152.6|                      749.6|                   587.3|                    162.4|                           729.8|                           749.6|                       1069.4|\n",
      "|Abu Dhabi|2010-07-09 13:00:00|          37.3|                47.0|        24.0|                40.4|          0.0| 0.0|     0.0|       0.0|         0.0|       997.9|           997.2|       13.0|            0.0|           13.0|            18.0|                      0.45|                   3.39|          19.8|           22.4|             327.0|              327.0|          26.6|                     50.2|                      41.8|                        37.9|                         32.0|                 0.022|                  0.105|                     0.06|                     0.038|              366.0|           213.0|            153.0|                   374.2|                   366.0|                753.1|                      302.9|                   176.3|                    126.6|                           374.2|                           302.9|                        623.3|\n",
      "|Abu Dhabi|2010-07-16 00:00:00|          32.7|                52.0|        21.7|                35.4|          0.0| 0.0|     0.0|       0.0|         0.0|       997.0|           996.3|        0.0|            0.0|            0.0|             0.0|                      0.12|                   2.36|          14.2|           25.0|             189.0|              192.0|          20.2|                     32.2|                      41.1|                        38.8|                         32.3|                 0.024|                  0.104|                     0.06|                     0.038|                0.0|             0.0|              0.0|                     0.0|                     0.0|                  0.0|                        0.0|                     0.0|                      0.0|                             0.0|                             0.0|                          0.0|\n",
      "+---------+-------------------+--------------+--------------------+------------+--------------------+-------------+----+--------+----------+------------+------------+----------------+-----------+---------------+---------------+----------------+--------------------------+-----------------------+--------------+---------------+------------------+-------------------+--------------+-------------------------+--------------------------+----------------------------+-----------------------------+----------------------+-----------------------+-------------------------+--------------------------+-------------------+----------------+-----------------+------------------------+------------------------+---------------------+---------------------------+------------------------+-------------------------+--------------------------------+--------------------------------+-----------------------------+\n",
      "only showing top 20 rows\n",
      "\n"
     ]
    }
   ],
   "source": [
    "hourly_data_2010_2019_cleaned = hourly_data_2010_2019.dropna()\n",
    "\n",
    "# Remove rows with empty values (if any column is an empty string)\n",
    "hourly_data_2010_2019_cleaned = hourly_data_2010_2019_cleaned.filter(\n",
    "    (F.col(\"city_name\") != \"\") &\n",
    "    (F.col(\"datetime\") != \"\") &\n",
    "    (F.col(\"temperature_2m\") != \"\") &\n",
    "    (F.col(\"relative_humidity_2m\") != \"\") &\n",
    "    (F.col(\"dew_point_2m\") != \"\") &\n",
    "    (F.col(\"apparent_temperature\") != \"\") &\n",
    "    (F.col(\"precipitation\") != \"\") &\n",
    "    (F.col(\"rain\") != \"\") &\n",
    "    (F.col(\"snowfall\") != \"\") &\n",
    "    (F.col(\"snow_depth\") != \"\") &\n",
    "    (F.col(\"weather_code\") != \"\") &\n",
    "    (F.col(\"pressure_msl\") != \"\") &\n",
    "    (F.col(\"surface_pressure\") != \"\") &\n",
    "    (F.col(\"cloud_cover\") != \"\") &\n",
    "    (F.col(\"cloud_cover_low\") != \"\") &\n",
    "    (F.col(\"cloud_cover_mid\") != \"\") &\n",
    "    (F.col(\"cloud_cover_high\") != \"\") &\n",
    "    (F.col(\"et0_fao_evapotranspiration\") != \"\") &\n",
    "    (F.col(\"vapour_pressure_deficit\") != \"\") &\n",
    "    (F.col(\"wind_speed_10m\") != \"\") &\n",
    "    (F.col(\"wind_speed_100m\") != \"\") &\n",
    "    (F.col(\"wind_direction_10m\") != \"\") &\n",
    "    (F.col(\"wind_direction_100m\") != \"\") &\n",
    "    (F.col(\"wind_gusts_10m\") != \"\") &\n",
    "    (F.col(\"soil_temperature_0_to_7cm\") != \"\") &\n",
    "    (F.col(\"soil_temperature_7_to_28cm\") != \"\") &\n",
    "    (F.col(\"soil_temperature_28_to_100cm\") != \"\") &\n",
    "    (F.col(\"soil_temperature_100_to_255cm\") != \"\") &\n",
    "    (F.col(\"soil_moisture_0_to_7cm\") != \"\") &\n",
    "    (F.col(\"soil_moisture_7_to_28cm\") != \"\") &\n",
    "    (F.col(\"soil_moisture_28_to_100cm\") != \"\") &\n",
    "    (F.col(\"soil_moisture_100_to_255cm\") != \"\") &\n",
    "    (F.col(\"shortwave_radiation\") != \"\") &\n",
    "    (F.col(\"direct_radiation\") != \"\") &\n",
    "    (F.col(\"diffuse_radiation\") != \"\") &\n",
    "    (F.col(\"direct_normal_irradiance\") != \"\") &\n",
    "    (F.col(\"global_tilted_irradiance\") != \"\") &\n",
    "    (F.col(\"terrestrial_radiation\") != \"\") &\n",
    "    (F.col(\"shortwave_radiation_instant\") != \"\") &\n",
    "    (F.col(\"direct_radiation_instant\") != \"\") &\n",
    "    (F.col(\"diffuse_radiation_instant\") != \"\") &\n",
    "    (F.col(\"direct_normal_irradiance_instant\") != \"\") &\n",
    "    (F.col(\"global_tilted_irradiance_instant\") != \"\") &\n",
    "    (F.col(\"terrestrial_radiation_instant\") != \"\")\n",
    ")\n",
    "\n",
    "# Convert string values in numeric columns to actual numeric values\n",
    "numeric_columns = [\n",
    "    \"temperature_2m\", \"relative_humidity_2m\", \"dew_point_2m\",\n",
    "    \"apparent_temperature\", \"precipitation\", \"rain\", \"snowfall\",\n",
    "    \"snow_depth\", \"pressure_msl\", \"surface_pressure\", \"cloud_cover\",\n",
    "    \"cloud_cover_low\", \"cloud_cover_mid\", \"cloud_cover_high\",\n",
    "    \"et0_fao_evapotranspiration\", \"vapour_pressure_deficit\", \"wind_speed_10m\",\n",
    "    \"wind_speed_100m\", \"wind_direction_10m\", \"wind_direction_100m\", \"wind_gusts_10m\",\n",
    "    \"soil_temperature_0_to_7cm\", \"soil_temperature_7_to_28cm\", \"soil_temperature_28_to_100cm\",\n",
    "    \"soil_temperature_100_to_255cm\", \"soil_moisture_0_to_7cm\", \"soil_moisture_7_to_28cm\",\n",
    "    \"soil_moisture_28_to_100cm\", \"soil_moisture_100_to_255cm\", \"shortwave_radiation\",\n",
    "    \"direct_radiation\", \"diffuse_radiation\", \"direct_normal_irradiance\",\n",
    "    \"global_tilted_irradiance\", \"terrestrial_radiation\", \"shortwave_radiation_instant\",\n",
    "    \"direct_radiation_instant\", \"diffuse_radiation_instant\", \"direct_normal_irradiance_instant\",\n",
    "    \"global_tilted_irradiance_instant\", \"terrestrial_radiation_instant\"\n",
    "]\n",
    "\n",
    "# Convert the columns from string to float\n",
    "for col_name in numeric_columns:\n",
    "    hourly_data_2010_2019_cleaned = hourly_data_2010_2019_cleaned.withColumn(\n",
    "        col_name, F.col(col_name).cast(\"float\")\n",
    "    )\n",
    "\n",
    "# Remove duplicate rows\n",
    "hourly_data_2010_2019_cleaned = hourly_data_2010_2019_cleaned.dropDuplicates()\n",
    "\n",
    "# Show cleaned data\n",
    "hourly_data_2010_2019_cleaned.show()"
   ]
  },
  {
   "cell_type": "code",
   "execution_count": 36,
   "metadata": {
    "colab": {
     "base_uri": "https://localhost:8080/"
    },
    "id": "imLUmaFUvcdn",
    "outputId": "2469524a-f2e0-471f-e764-aab2e94b84ed"
   },
   "outputs": [
    {
     "name": "stdout",
     "output_type": "stream",
     "text": [
      "+---------+-------------------+--------------+--------------------+------------+--------------------+-------------+----+--------+----------+------------+------------+----------------+-----------+---------------+---------------+----------------+--------------------------+-----------------------+--------------+---------------+------------------+-------------------+--------------+-------------------------+--------------------------+----------------------------+-----------------------------+----------------------+-----------------------+-------------------------+--------------------------+-------------------+----------------+-----------------+------------------------+------------------------+---------------------+---------------------------+------------------------+-------------------------+--------------------------------+--------------------------------+-----------------------------+\n",
      "|city_name|           datetime|temperature_2m|relative_humidity_2m|dew_point_2m|apparent_temperature|precipitation|rain|snowfall|snow_depth|weather_code|pressure_msl|surface_pressure|cloud_cover|cloud_cover_low|cloud_cover_mid|cloud_cover_high|et0_fao_evapotranspiration|vapour_pressure_deficit|wind_speed_10m|wind_speed_100m|wind_direction_10m|wind_direction_100m|wind_gusts_10m|soil_temperature_0_to_7cm|soil_temperature_7_to_28cm|soil_temperature_28_to_100cm|soil_temperature_100_to_255cm|soil_moisture_0_to_7cm|soil_moisture_7_to_28cm|soil_moisture_28_to_100cm|soil_moisture_100_to_255cm|shortwave_radiation|direct_radiation|diffuse_radiation|direct_normal_irradiance|global_tilted_irradiance|terrestrial_radiation|shortwave_radiation_instant|direct_radiation_instant|diffuse_radiation_instant|direct_normal_irradiance_instant|global_tilted_irradiance_instant|terrestrial_radiation_instant|\n",
      "+---------+-------------------+--------------+--------------------+------------+--------------------+-------------+----+--------+----------+------------+------------+----------------+-----------+---------------+---------------+----------------+--------------------------+-----------------------+--------------+---------------+------------------+-------------------+--------------+-------------------------+--------------------------+----------------------------+-----------------------------+----------------------+-----------------------+-------------------------+--------------------------+-------------------+----------------+-----------------+------------------------+------------------------+---------------------+---------------------------+------------------------+-------------------------+--------------------------------+--------------------------------+-----------------------------+\n",
      "|Abu Dhabi|2010-01-23 03:00:00|          19.5|                84.0|        16.8|                20.1|          0.0| 0.0|     0.0|       0.0|         0.0|      1018.4|          1017.7|        1.0|            1.0|            0.0|             0.0|                      0.01|                   0.35|          12.1|           20.0|             300.0|              308.0|          16.9|                     18.1|                      23.2|                        24.5|                         31.8|                 0.038|                  0.085|                    0.055|                     0.038|                0.0|             0.0|              0.0|                     0.0|                     0.0|                  0.0|                        0.0|                     0.0|                      0.0|                             0.0|                             0.0|                          0.0|\n",
      "|Abu Dhabi|2010-01-30 11:00:00|          23.3|                47.0|        11.3|                22.6|          0.0| 0.0|     0.0|       0.0|         0.0|      1019.1|          1018.4|        0.0|            0.0|            0.0|             0.0|                      0.44|                   1.53|          11.9|           12.7|             325.0|              325.0|          25.2|                     37.0|                      22.6|                        24.7|                         31.5|                 0.038|                  0.084|                    0.055|                     0.038|              666.0|           550.0|            116.0|                   868.2|                   666.0|                893.1|                      604.4|                   499.2|                    105.3|                           868.2|                           604.4|                        810.5|\n",
      "|Abu Dhabi|2010-02-05 16:00:00|          20.3|                50.0|         9.6|                16.9|          0.0| 0.0|     0.0|       0.0|         2.0|      1013.4|          1012.7|       70.0|            0.0|           68.0|            99.0|                      0.14|                   1.18|          22.7|           27.9|             340.0|              340.0|          39.2|                     22.8|                      26.4|                        25.0|                         31.2|                 0.041|                  0.084|                    0.055|                     0.038|                0.0|             0.0|              0.0|                     0.0|                     0.0|                  0.0|                        0.0|                     0.0|                      0.0|                             0.0|                             0.0|                          0.0|\n",
      "|Abu Dhabi|2010-02-10 01:00:00|          16.0|                63.0|         9.0|                15.1|          0.0| 0.0|     0.0|       0.0|         0.0|      1016.2|          1015.5|        0.0|            0.0|            0.0|             0.0|                      0.01|                   0.67|           4.4|            7.3|             305.0|              327.0|           7.2|                     10.9|                      21.6|                        24.9|                         31.0|                 0.039|                  0.084|                    0.055|                     0.038|                0.0|             0.0|              0.0|                     0.0|                     0.0|                  0.0|                        0.0|                     0.0|                      0.0|                             0.0|                             0.0|                          0.0|\n",
      "|Abu Dhabi|2010-02-19 08:00:00|          26.5|                29.0|         7.1|                26.3|          0.0| 0.0|     0.0|       0.0|         0.0|      1015.8|          1015.1|        0.0|            0.0|            0.0|             0.0|                      0.57|                   2.45|           6.9|            8.3|             219.0|              214.0|          19.4|                     36.1|                      24.3|                        25.3|                         30.7|                 0.039|                  0.084|                    0.055|                     0.038|              810.0|           679.0|            131.0|                   879.7|                   810.0|               1080.7|                      839.7|                   703.9|                    135.8|                           879.7|                           839.7|                       1120.3|\n",
      "|Abu Dhabi|2010-02-23 11:00:00|          28.6|                26.0|         7.1|                28.5|          0.0| 0.0|     0.0|       0.0|         0.0|      1011.6|          1010.9|        0.0|            0.0|            0.0|             0.0|                      0.52|                    2.9|           3.7|            5.4|             241.0|              228.0|          17.3|                     44.2|                      25.4|                        25.6|                         30.6|                 0.037|                  0.084|                    0.055|                     0.038|              742.0|           613.0|            129.0|                   857.8|                   742.0|                998.9|                      679.2|                   561.1|                    118.1|                           857.8|                           679.2|                        914.3|\n",
      "|Abu Dhabi|2010-03-18 19:00:00|          25.1|                63.0|        17.4|                25.5|          0.0| 0.0|     0.0|       0.0|         0.0|      1013.6|          1012.9|        0.0|            0.0|            0.0|             0.0|                      0.08|                   1.19|          15.3|           24.0|              60.0|               64.0|          21.2|                     24.8|                      29.4|                        26.0|                         29.9|                  0.04|                  0.144|                    0.058|                     0.038|                0.0|             0.0|              0.0|                     0.0|                     0.0|                  0.0|                        0.0|                     0.0|                      0.0|                             0.0|                             0.0|                          0.0|\n",
      "|Abu Dhabi|2010-03-25 21:00:00|          22.1|                87.0|        19.7|                24.6|          0.0| 0.0|     0.0|       0.0|         0.0|      1009.0|          1008.3|        0.0|            0.0|            0.0|             0.0|                       0.0|                   0.36|           8.2|           15.3|             308.0|              319.0|          11.9|                     22.0|                      29.0|                        27.4|                         29.8|                  0.04|                  0.137|                    0.058|                     0.038|                0.0|             0.0|              0.0|                     0.0|                     0.0|                  0.0|                        0.0|                     0.0|                      0.0|                             0.0|                             0.0|                          0.0|\n",
      "|Abu Dhabi|2010-03-27 15:00:00|          37.8|                11.0|         2.3|                32.8|          0.0| 0.0|     0.0|       0.0|         0.0|      1004.2|          1003.5|        4.0|            0.0|            7.0|             0.0|                      0.43|                   5.82|          22.3|           33.4|             162.0|              164.0|          30.2|                     37.3|                      32.6|                        27.8|                         29.8|                 0.039|                  0.135|                    0.058|                     0.038|               10.0|             0.0|             10.0|                     0.0|                    10.0|                 78.8|                        0.0|                     0.0|                      0.0|                             0.0|                             0.0|                          0.0|\n",
      "|Abu Dhabi|2010-04-03 06:00:00|          28.2|                42.0|        14.2|                25.3|          0.0| 0.0|     0.0|       0.0|         0.0|      1014.4|          1013.7|        0.0|            0.0|            0.0|             0.0|                      0.58|                   2.21|          32.8|           40.9|             296.0|              297.0|          50.8|                     31.7|                      27.9|                        28.9|                         29.7|                 0.039|                  0.131|                    0.059|                     0.038|              679.0|           542.0|            137.0|                   786.9|                   679.0|                943.2|                      756.2|                   603.6|                    152.6|                           786.9|                           756.2|                       1050.5|\n",
      "|Abu Dhabi|2010-04-06 04:00:00|          22.5|                84.0|        19.7|                25.1|          0.0| 0.0|     0.0|       0.0|         0.0|      1011.6|          1010.9|        0.0|            0.0|            0.0|             0.0|                      0.13|                   0.44|           7.9|           10.9|             204.0|              197.0|          16.2|                     23.0|                      28.5|                        29.1|                         29.7|                 0.039|                  0.129|                    0.059|                     0.038|              215.0|           132.0|             83.0|                   441.4|                   215.0|                408.8|                      295.4|                   181.4|                    114.0|                           441.4|                           295.4|                        561.7|\n",
      "|Abu Dhabi|2010-04-10 10:00:00|          33.8|                33.0|        15.3|                34.5|          0.0| 0.0|     0.0|       0.0|         0.0|      1007.7|          1007.0|        2.0|            0.0|            3.0|             2.0|                      0.79|                   3.52|          19.6|           22.6|             340.0|              343.0|          36.4|                     44.8|                      32.6|                        30.0|                         29.7|                 0.039|                  0.127|                    0.059|                     0.038|              913.0|           695.0|            218.0|                   756.4|                   913.0|               1253.0|                      874.7|                   665.9|                    208.9|                           756.4|                           874.7|                       1200.5|\n",
      "|Abu Dhabi|2010-04-25 07:00:00|          30.4|                53.0|        19.6|                30.5|          0.0| 0.0|     0.0|       0.0|         2.0|      1010.3|          1009.6|       59.0|            0.0|           49.0|           100.0|                      0.46|                   2.05|          24.2|           28.2|             300.0|              300.0|          38.5|                     37.7|                      33.8|                        32.1|                         29.8|                 0.039|                  0.121|                    0.059|                     0.038|              482.0|           142.0|            340.0|                   161.8|                   482.0|               1186.8|                      509.0|                   149.9|                    359.0|                           161.8|                           509.0|                       1253.2|\n",
      "|Abu Dhabi|2010-05-03 01:00:00|          26.9|                83.0|        23.8|                30.8|          0.0| 0.0|     0.0|       0.0|         0.0|      1005.2|          1004.5|       18.0|            0.0|           13.0|            35.0|                      0.03|                    0.6|          13.8|           19.8|             290.0|              297.0|          14.4|                     27.4|                      35.4|                        33.1|                         29.9|                 0.038|                  0.118|                    0.059|                     0.038|                0.0|             0.0|              0.0|                     0.0|                     0.0|                  0.0|                        0.0|                     0.0|                      0.0|                             0.0|                             0.0|                          0.0|\n",
      "|Abu Dhabi|2010-05-06 02:00:00|          26.3|                56.0|        16.8|                26.6|          0.0| 0.0|     0.0|       0.0|         1.0|      1005.8|          1005.1|       30.0|            0.0|           40.0|            21.0|                      0.12|                   1.51|          14.2|           22.8|             324.0|              325.0|          25.2|                     25.2|                      31.4|                        33.2|                         30.0|                 0.039|                  0.117|                    0.059|                     0.038|                1.0|             0.0|              1.0|                     0.0|                     1.0|                 20.8|                        2.9|                     0.0|                      2.9|                             0.0|                             0.8|                         61.2|\n",
      "|Abu Dhabi|2010-05-12 21:00:00|          29.5|                55.0|        19.5|                32.7|          0.0| 0.0|     0.0|       0.0|         0.0|      1004.3|          1003.6|        0.0|            0.0|            0.0|             0.0|                      0.01|                   1.86|           3.0|            3.6|             104.0|               53.0|           5.4|                     27.5|                      36.4|                        33.5|                         30.1|                 0.038|                  0.116|                     0.06|                     0.038|                0.0|             0.0|              0.0|                     0.0|                     0.0|                  0.0|                        0.0|                     0.0|                      0.0|                             0.0|                             0.0|                          0.0|\n",
      "|Abu Dhabi|2010-05-30 09:00:00|          40.1|                29.0|        18.7|                44.0|          0.0| 0.0|     0.0|       0.0|         0.0|      1003.5|          1002.8|        0.0|            0.0|            0.0|             0.0|                      0.88|                   5.27|          11.6|           14.0|             234.0|              228.0|          28.1|                     54.3|                      37.6|                        35.2|                         30.6|                 0.035|                  0.112|                     0.06|                     0.038|              975.0|           791.0|            184.0|                   794.5|                   975.0|               1325.5|                      965.5|                   783.3|                    182.2|                           794.5|                           965.5|                       1312.5|\n",
      "|Abu Dhabi|2010-06-05 11:00:00|          37.1|                37.0|        20.2|                39.8|          0.0| 0.0|     0.0|       0.0|         0.0|      1000.8|          1000.1|        0.0|            0.0|            0.0|             0.0|                      0.75|                   3.95|          17.8|           18.6|             324.0|              324.0|          29.5|                     55.1|                      39.3|                        35.9|                         30.8|                 0.034|                  0.111|                     0.06|                     0.038|              808.0|           633.0|            175.0|                   729.8|                   808.0|               1152.6|                      749.6|                   587.3|                    162.4|                           729.8|                           749.6|                       1069.4|\n",
      "|Abu Dhabi|2010-07-09 13:00:00|          37.3|                47.0|        24.0|                40.4|          0.0| 0.0|     0.0|       0.0|         0.0|       997.9|           997.2|       13.0|            0.0|           13.0|            18.0|                      0.45|                   3.39|          19.8|           22.4|             327.0|              327.0|          26.6|                     50.2|                      41.8|                        37.9|                         32.0|                 0.022|                  0.105|                     0.06|                     0.038|              366.0|           213.0|            153.0|                   374.2|                   366.0|                753.1|                      302.9|                   176.3|                    126.6|                           374.2|                           302.9|                        623.3|\n",
      "|Abu Dhabi|2010-07-16 00:00:00|          32.7|                52.0|        21.7|                35.4|          0.0| 0.0|     0.0|       0.0|         0.0|       997.0|           996.3|        0.0|            0.0|            0.0|             0.0|                      0.12|                   2.36|          14.2|           25.0|             189.0|              192.0|          20.2|                     32.2|                      41.1|                        38.8|                         32.3|                 0.024|                  0.104|                     0.06|                     0.038|                0.0|             0.0|              0.0|                     0.0|                     0.0|                  0.0|                        0.0|                     0.0|                      0.0|                             0.0|                             0.0|                          0.0|\n",
      "+---------+-------------------+--------------+--------------------+------------+--------------------+-------------+----+--------+----------+------------+------------+----------------+-----------+---------------+---------------+----------------+--------------------------+-----------------------+--------------+---------------+------------------+-------------------+--------------+-------------------------+--------------------------+----------------------------+-----------------------------+----------------------+-----------------------+-------------------------+--------------------------+-------------------+----------------+-----------------+------------------------+------------------------+---------------------+---------------------------+------------------------+-------------------------+--------------------------------+--------------------------------+-----------------------------+\n",
      "only showing top 20 rows\n",
      "\n"
     ]
    }
   ],
   "source": [
    "hourly_data_2010_2019_cleaned = hourly_data_2010_2019_cleaned.filter(\n",
    "    (F.col(\"datetime\") != \"00:00:00\") &\n",
    "    (F.to_timestamp(\"datetime\", \"yyyy-MM-dd HH:mm:ss\").isNotNull())\n",
    ")\n",
    "\n",
    "# Example: Removing rows where the temperature_2m is below absolute zero (business rule)\n",
    "hourly_data_2010_2019_cleaned = hourly_data_2010_2019_cleaned.filter(\n",
    "    F.col(\"temperature_2m\") >= -273.15\n",
    ")\n",
    "\n",
    "# After cleaning, show the cleaned dataset\n",
    "hourly_data_2010_2019_cleaned.show()"
   ]
  },
  {
   "cell_type": "code",
   "execution_count": 37,
   "metadata": {
    "colab": {
     "base_uri": "https://localhost:8080/"
    },
    "id": "tIq5fssjwMf-",
    "outputId": "df018255-d45a-4eb8-80b8-26df197fd8b5"
   },
   "outputs": [
    {
     "name": "stdout",
     "output_type": "stream",
     "text": [
      "Data Cleanliness Percentage: 98.00%\n"
     ]
    }
   ],
   "source": [
    "# Get the original count of records before cleaning\n",
    "original_count = hourly_data_2010_2019.count()\n",
    "\n",
    "\n",
    "cleaned_count = hourly_data_2010_2019_cleaned.count()\n",
    "\n",
    "# Calculate cleanliness percentage\n",
    "cleanliness_percentage = (cleaned_count / original_count) * 100\n",
    "\n",
    "# Show the cleanliness percentage\n",
    "print(f\"Data Cleanliness Percentage: {cleanliness_percentage:.2f}%\")\n"
   ]
  },
  {
   "cell_type": "markdown",
   "metadata": {},
   "source": [
    "####  I) For Ibibo website, they have a usecase where for each city they need to display best recommended timeslot (for example, 01:00) in the month (taken as an input). Best recommended timeslot is whereaverage of temperature over the years is minimal."
   ]
  },
  {
   "cell_type": "code",
   "execution_count": 38,
   "metadata": {
    "colab": {
     "base_uri": "https://localhost:8080/"
    },
    "id": "8Ux6qCdF5MUl",
    "outputId": "6757abca-0672-4976-a71c-4e67b0ab4800"
   },
   "outputs": [
    {
     "name": "stdout",
     "output_type": "stream",
     "text": [
      "+------------+----+----+------------------+\n",
      "|   city_name|year|hour|   avg_temperature|\n",
      "+------------+----+----+------------------+\n",
      "|   Abu Dhabi|2013|   2| 22.95972602739726|\n",
      "|   Amsterdam|2010|   4| 7.049863013698625|\n",
      "|      Athens|2011|   4| 13.45287671232875|\n",
      "|     Atlanta|2014|  11|11.524109589041096|\n",
      "|    Auckland|2012|  17|12.936338797814212|\n",
      "|      Austin|2014|  12|12.277260273972606|\n",
      "|     Bangkok|2011|  23| 23.78191780821918|\n",
      "|   Barcelona|2019|   5|12.643561643835634|\n",
      "|     Beijing|2010|  22| 6.852328767123295|\n",
      "|      Berlin|2010|   4| 5.457260273972602|\n",
      "|      Bilbao|2017|   5|11.470410958904104|\n",
      "|  Birmingham|2010|   5| 5.676438356164383|\n",
      "|      Bogota|2018|  11| 8.826849315068493|\n",
      "|      Boston|2010|  11|14.360821917808217|\n",
      "|    Brisbane|2018|  19|15.965479452054812|\n",
      "|    Brussels|2010|   4| 6.713150684931508|\n",
      "|   Bucharest|2011|   3| 7.418904109589038|\n",
      "|    Budapest|2010|   4| 7.152054794520543|\n",
      "|Buenos Aires|2011|   9|14.287397260273966|\n",
      "|       Busan|2018|  21|11.298356164383575|\n",
      "+------------+----+----+------------------+\n",
      "only showing top 20 rows\n",
      "\n"
     ]
    }
   ],
   "source": [
    "hourly_data_2010_2019 = hourly_data_2010_2019.withColumn(\"year\", F.year(F.col(\"datetime\"))) \\\n",
    "                                               .withColumn(\"hour\", F.hour(F.col(\"datetime\")))\n",
    "\n",
    "# Step 2: Group by city, year, and hour, and calculate the average temperature\n",
    "avg_temperature_df = hourly_data_2010_2019.groupBy(\"city_name\", \"year\", \"hour\") \\\n",
    "                                           .agg(F.avg(\"temperature_2m\").alias(\"avg_temperature\"))\n",
    "\n",
    "# Step 3: Find the best recommended timeslot (minimal average temperature) for each city\n",
    "# For each city, select the minimum average temperature and its corresponding hour\n",
    "\n",
    "best_timeslot_df = avg_temperature_df.withColumn(\"rank\",\n",
    "                            F.row_number().over(Window.partitionBy(\"city_name\").orderBy(\"avg_temperature\"))) \\\n",
    "                            .filter(F.col(\"rank\") == 1) \\\n",
    "                            .drop(\"rank\")\n",
    "\n",
    "# Step 4: Show the results\n",
    "best_timeslot_df.show()"
   ]
  },
  {
   "cell_type": "code",
   "execution_count": 44,
   "metadata": {},
   "outputs": [
    {
     "name": "stdin",
     "output_type": "stream",
     "text": [
      "Enter the month (1-12):  4\n"
     ]
    },
    {
     "name": "stdout",
     "output_type": "stream",
     "text": [
      "Best recommended timeslots for month 4:\n",
      "+------------+----+------------------+\n",
      "|   city_name|hour|   avg_temperature|\n",
      "+------------+----+------------------+\n",
      "|   Abu Dhabi|   2|22.766999999999996|\n",
      "|   Amsterdam|   5| 6.273999999999995|\n",
      "|      Athens|   4|11.988000000000005|\n",
      "|     Atlanta|  11|11.557333333333338|\n",
      "|    Auckland|  18|14.925333333333331|\n",
      "|      Austin|  12|13.091000000000001|\n",
      "|     Bangkok|  23|26.202333333333335|\n",
      "|   Barcelona|   5|10.976666666666668|\n",
      "|     Beijing|  22| 7.559666666666666|\n",
      "|      Berlin|   4|             4.824|\n",
      "|      Bilbao|   5|10.704000000000004|\n",
      "|  Birmingham|   5| 4.527333333333331|\n",
      "|      Bogota|  11|10.925333333333338|\n",
      "|      Boston|  11| 14.70266666666668|\n",
      "|    Brisbane|  20|17.094999999999995|\n",
      "|    Brussels|   5|             5.913|\n",
      "|   Bucharest|   4|  7.44333333333334|\n",
      "|    Budapest|   4| 7.496000000000002|\n",
      "|Buenos Aires|  10|15.487666666666668|\n",
      "|       Busan|  21| 9.679333333333334|\n",
      "+------------+----+------------------+\n",
      "only showing top 20 rows\n",
      "\n"
     ]
    },
    {
     "name": "stderr",
     "output_type": "stream",
     "text": [
      "t=2024-12-24T16:51:23+0530 lvl=eror msg=\"heartbeat timeout, terminating session\" obj=tunnels.session obj=csess id=d31176104590 clientid=752f240cb7c88a5a788603a08bb891a3\n",
      "t=2024-12-24T16:51:23+0530 lvl=eror msg=\"session closed, starting reconnect loop\" obj=tunnels.session obj=csess id=e53aa43dcdd6 err=\"session closed\"\n"
     ]
    }
   ],
   "source": [
    "#  Take user input for the month (as an integer)\n",
    "input_month = int(input(\"Enter the month (1-12): \"))\n",
    "\n",
    "#  Filter the data for the selected month\n",
    "hourly_data_2010_2019 = hourly_data_2010_2019.withColumn(\"month\", F.month(F.col(\"datetime\")))\n",
    "\n",
    "filtered_data = hourly_data_2010_2019.filter(F.col(\"month\") == input_month)\n",
    "\n",
    "# Recalculate the best timeslot for the selected month\n",
    "avg_temperature_filtered_df = filtered_data.groupBy(\"city_name\", \"hour\") \\\n",
    "                                           .agg(F.avg(\"temperature_2m\").alias(\"avg_temperature\"))\n",
    "\n",
    "best_timeslot_filtered_df = avg_temperature_filtered_df.withColumn(\"rank\",\n",
    "                            F.row_number().over(Window.partitionBy(\"city_name\").orderBy(\"avg_temperature\"))) \\\n",
    "                            .filter(F.col(\"rank\") == 1) \\\n",
    "                            .drop(\"rank\")\n",
    "\n",
    "#  Display the best-recommended timeslot for each city\n",
    "print(f\"Best recommended timeslots for month {input_month}:\")\n",
    "best_timeslot_filtered_df.show()\n"
   ]
  },
  {
   "cell_type": "markdown",
   "metadata": {},
   "source": [
    "#### II) Another usecase is, the customer wants to get list of cities ordered in ascending fashion, where there is no rain for any consecutive 2 months."
   ]
  },
  {
   "cell_type": "code",
   "execution_count": 39,
   "metadata": {
    "colab": {
     "base_uri": "https://localhost:8080/"
    },
    "id": "ZPaA28OY6AqB",
    "outputId": "cb60457c-c688-4526-808c-2569c6ce439f"
   },
   "outputs": [
    {
     "name": "stdout",
     "output_type": "stream",
     "text": [
      "+----------+\n",
      "| city_name|\n",
      "+----------+\n",
      "| Abu Dhabi|\n",
      "|    Athens|\n",
      "|   Bangkok|\n",
      "|   Beijing|\n",
      "|    Berlin|\n",
      "|Birmingham|\n",
      "|  Brisbane|\n",
      "| Bucharest|\n",
      "|  Budapest|\n",
      "|   Calgary|\n",
      "|Copenhagen|\n",
      "|      Doha|\n",
      "|     Dubai|\n",
      "|Gothenburg|\n",
      "|   Hamburg|\n",
      "|     Hanoi|\n",
      "|  Helsinki|\n",
      "| Hong Kong|\n",
      "|  Istanbul|\n",
      "|    Krakow|\n",
      "+----------+\n",
      "only showing top 20 rows\n",
      "\n"
     ]
    }
   ],
   "source": [
    "hourly_data_2010_2019 = hourly_data_2010_2019.withColumn(\"year\", F.year(F.col(\"datetime\"))) \\\n",
    "                                               .withColumn(\"month\", F.month(F.col(\"datetime\")))\n",
    "\n",
    "# Step 2: Add a 'rain' column where 1 indicates rain and 0 indicates no rain\n",
    "# You can use the 'rain' column from your dataset to mark whether it rained in a particular hour\n",
    "# If the total precipitation or rain in an hour is more than zero, it rained that hour.\n",
    "hourly_data_2010_2019 = hourly_data_2010_2019.withColumn(\"rain_flag\", F.when(F.col(\"rain\") > 0, 1).otherwise(0))\n",
    "\n",
    "# Step 3: Aggregate data by city and month, summing the rain_flags for each city and month\n",
    "rain_data = hourly_data_2010_2019.groupBy(\"city_name\", \"year\", \"month\") \\\n",
    "                                 .agg(F.sum(\"rain_flag\").alias(\"total_rain\"))\n",
    "\n",
    "# Step 4: Filter cities where there is no rain for consecutive two months\n",
    "# We will use a window function to check consecutive months for each city\n",
    "\n",
    "# Create a window specification for each city\n",
    "window_spec = Window.partitionBy(\"city_name\").orderBy(\"year\", \"month\")\n",
    "\n",
    "# Create a column that checks the rain flag for consecutive months\n",
    "rain_data_with_consecutive_check = rain_data.withColumn(\"next_month_rain\", F.lead(\"total_rain\").over(window_spec))\n",
    "\n",
    "# Filter out cities where there is rain in consecutive months\n",
    "valid_cities = rain_data_with_consecutive_check.filter(\n",
    "    (F.col(\"total_rain\") == 0) & (F.col(\"next_month_rain\").isNull() | (F.col(\"next_month_rain\") == 0))\n",
    ")\n",
    "\n",
    "# Step 5: Order the cities in ascending fashion by city name\n",
    "ordered_cities = valid_cities.select(\"city_name\").distinct().orderBy(\"city_name\")\n",
    "\n",
    "# Step 6: Show the results\n",
    "ordered_cities.show()"
   ]
  },
  {
   "cell_type": "markdown",
   "metadata": {},
   "source": [
    "#### III) Create hive table(s) with Partitioning & Bucketing (If needed) where customer fire frequent queries like \"in the year x, month y and day z, get me all the records ordered by dew_point descending\""
   ]
  },
  {
   "cell_type": "markdown",
   "metadata": {
    "id": "xVOClwe1r3Q6"
   },
   "source": [
    "\r\n",
    "\r\n",
    "---\r\n",
    "\r\n",
    "## **Steps to Import and Query Data in Hive**\r\n",
    "\r\n",
    "### **Step 1: Import Data to Hive**\r\n",
    "\r\n",
    "We assume you have the CSV file named `hourly_data_combined_2010_to_2019.csv`.\r\n",
    "\r\n",
    "#### **1.1 Create a Staging Table**\r\n",
    "Create a staging table to load the raw CSV data.\r\n",
    "\r\n",
    "```sql\r\n",
    "CREATE TABLE hourly_data_staging (\r\n",
    "    city_name STRING,\r\n",
    "    datetime STRING,\r\n",
    "    temperature_2m DOUBLE,\r\n",
    "    relative_humidity_2m DOUBLE,\r\n",
    "    dew_point DOUBLE,\r\n",
    "    apparent_temperature DOUBLE,\r\n",
    "    precipitation DOUBLE,\r\n",
    "    weather_code STRING\r\n",
    ")\r\n",
    "ROW FORMAT DELIMITED\r\n",
    "FIELDS TERMINATED BY ','\r\n",
    "STORED AS TEXTFILE;\r\n",
    "```\r\n",
    "\r\n",
    "![Staging Table](./images/img1.jpeg)\r\n",
    "\r\n",
    "#### **1.2 Load Data into the Staging Table**\r\n",
    "Upload the CSV file to HDFS and load it into the staging table:\r\n",
    "\r\n",
    "1. Use the following command to move the CSV file to HDFS:\r\n",
    "\r\n",
    "   ```bash\r\n",
    "   hdfs dfs -put /path/to/hourly_data_combined_2010_to_2019.csv /user/hive/warehouse/hourly_data_staging/\r\n",
    "   ```\r\n",
    "\r\n",
    "2. Load the data into Hive:\r\n",
    "\r\n",
    "   ```sql\r\n",
    "   LOAD DATA INPATH '/user/hive/warehouse/hourly_data_staging/hourly_data_combined_2010_to_2019.csv'\r\n",
    "   INTO TABLE hourly_data_staging;\r\n",
    "   ```\r\n",
    "\r\n",
    "![Load Data](./images/img2.jpeg)\r\n",
    "\r\n",
    "---\r\n",
    "\r\n",
    "### **Step 2: Create a Partitioned and Bucketed Table**\r\n",
    "\r\n",
    "#### **2.1 Create the Final Table**\r\n",
    "Create a table partitioned by `year`, `month`, and `day` and bucketed by `city_name`.\r\n",
    "\r\n",
    "```sql\r\n",
    "CREATE TABLE weather_data (\r\n",
    "    city_name STRING,\r\n",
    "    dew_point DOUBLE,\r\n",
    "    temperature_2m DOUBLE,\r\n",
    "    relative_humidity_2m DOUBLE,\r\n",
    "    apparent_temperature DOUBLE,\r\n",
    "    precipitation DOUBLE,\r\n",
    "    weather_code STRING\r\n",
    ")\r\n",
    "PARTITIONED BY (year INT, month INT, day INT)\r\n",
    "CLUSTERED BY (city_name) INTO 10 BUCKETS\r\n",
    "STORED AS ORC\r\n",
    "TBLPROPERTIES (\"orc.compress\"=\"ZLIB\");\r\n",
    "```\r\n",
    "\r\n",
    "![Final Table](./images/img3.jpeg)\r\n",
    "\r\n",
    "---\r\n",
    "\r\n",
    "### **Step 3: Transform and Insert Data into the Partitioned Table**\r\n",
    "\r\n",
    "#### **3.1 Enable Dynamic Partitioning and Bucketing**\r\n",
    "Set Hive properties for dynamic partitioning and bucketing:\r\n",
    "\r\n",
    "```sql\r\n",
    "SET hive.exec.dynamic.partition = true;\r\n",
    "SET hive.exec.dynamic.partition.mode = nonstrict;\r\n",
    "SET hive.enforce.bucketing = true;\r\n",
    "```\r\n",
    "\r\n",
    "![Dynamic Partitioning](./images/img4.jpeg)\r\n",
    "\r\n",
    "#### **3.2 Insert Data into the Partitioned Table**\r\n",
    "Transform the data from the staging table and populate the partitioned table:\r\n",
    "\r\n",
    "```sql\r\n",
    "INSERT OVERWRITE TABLE weather_data PARTITION (year, month, day)\r\n",
    "SELECT\r\n",
    "    city_name,\r\n",
    "    dew_point,\r\n",
    "    temperature_2m,\r\n",
    "    relative_humidity_2m,\r\n",
    "    apparent_temperature,\r\n",
    "    precipitation,\r\n",
    "    weather_code,\r\n",
    "    YEAR(TO_DATE(datetime)) AS year,\r\n",
    "    MONTH(TO_DATE(datetime)) AS month,\r\n",
    "    DAY(TO_DATE(datetime)) AS day\r\n",
    "FROM hourly_data_staging;\r\n",
    "```\r\n",
    "\r\n",
    "![Insert Data](./images/img5.jpeg)\r\n",
    "\r\n",
    "---\r\n",
    "\r\n",
    "### **Step 4: Query the Data**\r\n",
    "\r\n",
    "#### **4.1 Query for a Specific Year, Month, and Day**\r\n",
    "Retrieve data for a specific date and order it by `dew_point` in descending order:\r\n",
    "\r\n",
    "```sql\r\n",
    "SELECT *\r\n",
    "FROM weather_data\r\n",
    "WHERE year = 2022 AND month = 8 AND day = 15\r\n",
    "ORDER BY dew_point DESC;\r\n",
    "```\r\n",
    "\r\n",
    "![Query Data](./images/img6.jpeg)\r\n",
    "\r\n",
    "#### **4.2 Verify Partitioning**\r\n",
    "Check the partitions created for the table:\r\n",
    "\r\n",
    "```sql\r\n",
    "SHOW PARTITIONS weather_data;\r\n",
    "```\r\n",
    "\r\n",
    "![Show Partitions](./images/img7.jpeg)\r\n",
    "\r\n",
    "#### **4.3 Analyze the Table**\r\n",
    "Collect statistics for bettenment.\r\n",
    "- Use the ORC format for better compression and performance.\r\n",
    "\r\n",
    "--- \r\n",
    "\r\n",
    "Let me know if there are additional corrections or enhancements you need!nt due to partitioning.\r\n",
    "- Bucketing ensures an even distribution of `city_name` for faster access.\r\n",
    "\r\n",
    "Let me know if you need help with any specific steps!"
   ]
  },
  {
   "cell_type": "code",
   "execution_count": 40,
   "metadata": {},
   "outputs": [
    {
     "name": "stderr",
     "output_type": "stream",
     "text": [
      "'wget' is not recognized as an internal or external command,\n",
      "operable program or batch file.\n",
      "'unzip' is not recognized as an internal or external command,\n",
      "operable program or batch file.\n"
     ]
    },
    {
     "name": "stdout",
     "output_type": "stream",
     "text": [
      "Requirement already satisfied: pyngrok in c:\\users\\meghana m\\anaconda3\\lib\\site-packages (7.2.2)\n",
      "Requirement already satisfied: PyYAML>=5.1 in c:\\users\\meghana m\\anaconda3\\lib\\site-packages (from pyngrok) (6.0.1)\n",
      "Requirement already satisfied: python-dotenv in c:\\users\\meghana m\\anaconda3\\lib\\site-packages (0.21.0)\n"
     ]
    },
    {
     "data": {
      "text/plain": [
       "True"
      ]
     },
     "execution_count": 40,
     "metadata": {},
     "output_type": "execute_result"
    }
   ],
   "source": [
    "!wget https://bin.equinox.io/c/4VmDzA7iaHb/ngrok-stable-linux-amd64.zip\n",
    "!unzip ngrok-stable-linux-amd64.zip\n",
    "!pip install pyngrok\n",
    "!pip install python-dotenv\n",
    "from dotenv import load_dotenv\n",
    "import os\n",
    "from pyngrok import ngrok\n",
    "load_dotenv()"
   ]
  },
  {
   "cell_type": "code",
   "execution_count": 41,
   "metadata": {},
   "outputs": [
    {
     "name": "stdout",
     "output_type": "stream",
     "text": [
      "Ngrok Tunnel URL: NgrokTunnel: \"https://57d5-2401-4900-1cbd-2842-c1fc-32e7-1bc9-42eb.ngrok-free.app\" -> \"http://localhost:4050\"\n"
     ]
    }
   ],
   "source": [
    "auth_token = os.getenv(\"AUTH_TOKEN\")       ## Please enter your ngrok auth token here\n",
    "ngrok.set_auth_token(auth_token)\n",
    "public_url = ngrok.connect(4050)\n",
    "print(\"Ngrok Tunnel URL:\", public_url)"
   ]
  }
 ],
 "metadata": {
  "colab": {
   "provenance": []
  },
  "kernelspec": {
   "display_name": "Python 3 (ipykernel)",
   "language": "python",
   "name": "python3"
  },
  "language_info": {
   "codemirror_mode": {
    "name": "ipython",
    "version": 3
   },
   "file_extension": ".py",
   "mimetype": "text/x-python",
   "name": "python",
   "nbconvert_exporter": "python",
   "pygments_lexer": "ipython3",
   "version": "3.12.4"
  }
 },
 "nbformat": 4,
 "nbformat_minor": 4
}
