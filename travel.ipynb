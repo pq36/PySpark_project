{
 "cells": [
  {
   "cell_type": "markdown",
   "id": "a2d785f9-67d1-4b15-8716-33ff2cb98c5f",
   "metadata": {},
   "source": [
    "## Industry Requirement: \n",
    "## Identifying the Best Travel Locations for Outdoor Activities Based on Weather Conditions\n",
    "**Description**:\n",
    "For travel and tourism companies, it's crucial to identify the best cities for outdoor activities during specific months. Using the weather dataset, we can implement a requirement to find cities with the most favorable weather conditions for outdoor activities. The criteria can include:\n",
    "* Temperature Range: Between 20°C and 30°C.\n",
    "* Low Rainfall: Precipitation less than 2 mm.\n",
    "* Clear Skies: Cloud cover less than 20%."
   ]
  },
  {
   "cell_type": "markdown",
   "id": "91363c24-32a5-4210-a2b7-cc1ae0a52776",
   "metadata": {},
   "source": [
    "### Steps to Implement in PySpark:\n",
    "#### 1. Load the Dataset:"
   ]
  },
  {
   "cell_type": "code",
   "execution_count": 1,
   "id": "ee7a36bd-1353-479b-8c77-94abf37f74af",
   "metadata": {},
   "outputs": [
    {
     "name": "stdout",
     "output_type": "stream",
     "text": [
      "+---------+-------------------+--------------+--------------------+------------+--------------------+-------------+----+--------+----------+------------+------------+----------------+-----------+---------------+---------------+----------------+--------------------------+-----------------------+--------------+---------------+------------------+-------------------+--------------+-------------------------+--------------------------+----------------------------+-----------------------------+----------------------+-----------------------+-------------------------+--------------------------+-------------------+----------------+-----------------+------------------------+------------------------+---------------------+---------------------------+------------------------+-------------------------+--------------------------------+--------------------------------+-----------------------------+\n",
      "|city_name|           datetime|temperature_2m|relative_humidity_2m|dew_point_2m|apparent_temperature|precipitation|rain|snowfall|snow_depth|weather_code|pressure_msl|surface_pressure|cloud_cover|cloud_cover_low|cloud_cover_mid|cloud_cover_high|et0_fao_evapotranspiration|vapour_pressure_deficit|wind_speed_10m|wind_speed_100m|wind_direction_10m|wind_direction_100m|wind_gusts_10m|soil_temperature_0_to_7cm|soil_temperature_7_to_28cm|soil_temperature_28_to_100cm|soil_temperature_100_to_255cm|soil_moisture_0_to_7cm|soil_moisture_7_to_28cm|soil_moisture_28_to_100cm|soil_moisture_100_to_255cm|shortwave_radiation|direct_radiation|diffuse_radiation|direct_normal_irradiance|global_tilted_irradiance|terrestrial_radiation|shortwave_radiation_instant|direct_radiation_instant|diffuse_radiation_instant|direct_normal_irradiance_instant|global_tilted_irradiance_instant|terrestrial_radiation_instant|\n",
      "+---------+-------------------+--------------+--------------------+------------+--------------------+-------------+----+--------+----------+------------+------------+----------------+-----------+---------------+---------------+----------------+--------------------------+-----------------------+--------------+---------------+------------------+-------------------+--------------+-------------------------+--------------------------+----------------------------+-----------------------------+----------------------+-----------------------+-------------------------+--------------------------+-------------------+----------------+-----------------+------------------------+------------------------+---------------------+---------------------------+------------------------+-------------------------+--------------------------------+--------------------------------+-----------------------------+\n",
      "|Abu Dhabi|2010-01-01 00:00:00|          15.1|                94.0|        14.2|                15.0|          0.0| 0.0|     0.0|       0.0|         0.0|      1012.1|          1011.4|        0.0|            0.0|            0.0|             0.0|                       0.0|                    0.1|          10.6|           17.0|             108.0|               94.0|          14.8|                     15.0|                      23.0|                        25.7|                         32.7|                 0.039|                  0.085|                    0.055|                     0.038|                0.0|             0.0|              0.0|                     0.0|                     0.0|                  0.0|                        0.0|                     0.0|                      0.0|                             0.0|                             0.0|                          0.0|\n",
      "|Abu Dhabi|2010-01-01 01:00:00|          14.4|                95.0|        13.6|                14.2|          0.0| 0.0|     0.0|       0.0|         0.0|      1012.4|          1011.7|        0.0|            0.0|            0.0|             0.0|                       0.0|                   0.09|           9.2|           13.1|             129.0|              106.0|          13.3|                     14.5|                      22.8|                        25.7|                         32.7|                 0.039|                  0.085|                    0.055|                     0.038|                0.0|             0.0|              0.0|                     0.0|                     0.0|                  0.0|                        0.0|                     0.0|                      0.0|                             0.0|                             0.0|                          0.0|\n",
      "|Abu Dhabi|2010-01-01 02:00:00|          13.9|                94.0|        12.9|                13.2|          0.0| 0.0|     0.0|       0.0|         0.0|      1012.6|          1011.9|        0.0|            0.0|            0.0|             0.0|                       0.0|                    0.1|          10.7|           12.3|             147.0|              128.0|          13.3|                     14.1|                      22.6|                        25.7|                         32.7|                 0.039|                  0.085|                    0.055|                     0.038|                0.0|             0.0|              0.0|                     0.0|                     0.0|                  0.0|                        0.0|                     0.0|                      0.0|                             0.0|                             0.0|                          0.0|\n",
      "|Abu Dhabi|2010-01-01 03:00:00|          13.4|                92.0|        12.2|                12.4|          0.0| 0.0|     0.0|       0.0|         0.0|      1013.2|          1012.5|        1.0|            0.0|            2.0|             0.0|                       0.0|                   0.12|          11.5|           13.9|             160.0|              149.0|          14.0|                     13.6|                      22.3|                        25.6|                         32.7|                 0.039|                  0.085|                    0.055|                     0.038|                0.0|             0.0|              0.0|                     0.0|                     0.0|                  0.0|                        0.0|                     0.0|                      0.0|                             0.0|                             0.0|                          0.0|\n",
      "|Abu Dhabi|2010-01-01 04:00:00|          13.6|                89.0|        11.9|                12.8|          0.0| 0.0|     0.0|       0.0|         0.0|      1013.7|          1013.0|        2.0|            0.0|            3.0|             2.0|                      0.02|                   0.16|           9.8|           13.4|             174.0|              172.0|          14.0|                     13.9|                      22.1|                        25.6|                         32.7|                 0.039|                  0.085|                    0.055|                     0.038|               45.0|            24.0|             21.0|                   194.9|                    45.0|                113.5|                       96.9|                    51.7|                     45.2|                           299.0|                            63.2|                        244.5|\n",
      "+---------+-------------------+--------------+--------------------+------------+--------------------+-------------+----+--------+----------+------------+------------+----------------+-----------+---------------+---------------+----------------+--------------------------+-----------------------+--------------+---------------+------------------+-------------------+--------------+-------------------------+--------------------------+----------------------------+-----------------------------+----------------------+-----------------------+-------------------------+--------------------------+-------------------+----------------+-----------------+------------------------+------------------------+---------------------+---------------------------+------------------------+-------------------------+--------------------------------+--------------------------------+-----------------------------+\n",
      "only showing top 5 rows\n",
      "\n",
      "root\n",
      " |-- city_name: string (nullable = true)\n",
      " |-- datetime: timestamp (nullable = true)\n",
      " |-- temperature_2m: double (nullable = true)\n",
      " |-- relative_humidity_2m: double (nullable = true)\n",
      " |-- dew_point_2m: double (nullable = true)\n",
      " |-- apparent_temperature: double (nullable = true)\n",
      " |-- precipitation: double (nullable = true)\n",
      " |-- rain: double (nullable = true)\n",
      " |-- snowfall: double (nullable = true)\n",
      " |-- snow_depth: double (nullable = true)\n",
      " |-- weather_code: double (nullable = true)\n",
      " |-- pressure_msl: double (nullable = true)\n",
      " |-- surface_pressure: double (nullable = true)\n",
      " |-- cloud_cover: double (nullable = true)\n",
      " |-- cloud_cover_low: double (nullable = true)\n",
      " |-- cloud_cover_mid: double (nullable = true)\n",
      " |-- cloud_cover_high: double (nullable = true)\n",
      " |-- et0_fao_evapotranspiration: double (nullable = true)\n",
      " |-- vapour_pressure_deficit: double (nullable = true)\n",
      " |-- wind_speed_10m: double (nullable = true)\n",
      " |-- wind_speed_100m: double (nullable = true)\n",
      " |-- wind_direction_10m: double (nullable = true)\n",
      " |-- wind_direction_100m: double (nullable = true)\n",
      " |-- wind_gusts_10m: double (nullable = true)\n",
      " |-- soil_temperature_0_to_7cm: double (nullable = true)\n",
      " |-- soil_temperature_7_to_28cm: double (nullable = true)\n",
      " |-- soil_temperature_28_to_100cm: double (nullable = true)\n",
      " |-- soil_temperature_100_to_255cm: double (nullable = true)\n",
      " |-- soil_moisture_0_to_7cm: double (nullable = true)\n",
      " |-- soil_moisture_7_to_28cm: double (nullable = true)\n",
      " |-- soil_moisture_28_to_100cm: double (nullable = true)\n",
      " |-- soil_moisture_100_to_255cm: double (nullable = true)\n",
      " |-- shortwave_radiation: double (nullable = true)\n",
      " |-- direct_radiation: double (nullable = true)\n",
      " |-- diffuse_radiation: double (nullable = true)\n",
      " |-- direct_normal_irradiance: double (nullable = true)\n",
      " |-- global_tilted_irradiance: double (nullable = true)\n",
      " |-- terrestrial_radiation: double (nullable = true)\n",
      " |-- shortwave_radiation_instant: double (nullable = true)\n",
      " |-- direct_radiation_instant: double (nullable = true)\n",
      " |-- diffuse_radiation_instant: double (nullable = true)\n",
      " |-- direct_normal_irradiance_instant: double (nullable = true)\n",
      " |-- global_tilted_irradiance_instant: double (nullable = true)\n",
      " |-- terrestrial_radiation_instant: double (nullable = true)\n",
      "\n"
     ]
    }
   ],
   "source": [
    "from pyspark.sql import SparkSession\n",
    "\n",
    "# Initialize SparkSession\n",
    "spark = SparkSession.builder \\\n",
    "    .appName(\"Best Travel Locations\") \\\n",
    "    .getOrCreate()\n",
    "\n",
    "# Load the weather data\n",
    "weather_data = spark.read.option(\"header\", True).option(\"inferSchema\", True).csv(\"Datasets/hourly_data_combined_2010_to_2019.csv\")\n",
    "\n",
    "weather_data.show(5)\n",
    "weather_data.printSchema()\n"
   ]
  },
  {
   "cell_type": "markdown",
   "id": "5f6a6a93-6478-44ce-aec9-cae06d0079a8",
   "metadata": {},
   "source": [
    "#### 2. Add Derived Columns for Analysis:\n",
    "Extract year and month from the datetime column to filter data by specific periods."
   ]
  },
  {
   "cell_type": "code",
   "execution_count": 2,
   "id": "7b4a0930-91d5-4cd7-b290-6a5ee545c911",
   "metadata": {},
   "outputs": [
    {
     "name": "stdout",
     "output_type": "stream",
     "text": [
      "+---------+-------------------+--------------+--------------------+------------+--------------------+-------------+----+--------+----------+------------+------------+----------------+-----------+---------------+---------------+----------------+--------------------------+-----------------------+--------------+---------------+------------------+-------------------+--------------+-------------------------+--------------------------+----------------------------+-----------------------------+----------------------+-----------------------+-------------------------+--------------------------+-------------------+----------------+-----------------+------------------------+------------------------+---------------------+---------------------------+------------------------+-------------------------+--------------------------------+--------------------------------+-----------------------------+----+-----+\n",
      "|city_name|           datetime|temperature_2m|relative_humidity_2m|dew_point_2m|apparent_temperature|precipitation|rain|snowfall|snow_depth|weather_code|pressure_msl|surface_pressure|cloud_cover|cloud_cover_low|cloud_cover_mid|cloud_cover_high|et0_fao_evapotranspiration|vapour_pressure_deficit|wind_speed_10m|wind_speed_100m|wind_direction_10m|wind_direction_100m|wind_gusts_10m|soil_temperature_0_to_7cm|soil_temperature_7_to_28cm|soil_temperature_28_to_100cm|soil_temperature_100_to_255cm|soil_moisture_0_to_7cm|soil_moisture_7_to_28cm|soil_moisture_28_to_100cm|soil_moisture_100_to_255cm|shortwave_radiation|direct_radiation|diffuse_radiation|direct_normal_irradiance|global_tilted_irradiance|terrestrial_radiation|shortwave_radiation_instant|direct_radiation_instant|diffuse_radiation_instant|direct_normal_irradiance_instant|global_tilted_irradiance_instant|terrestrial_radiation_instant|year|month|\n",
      "+---------+-------------------+--------------+--------------------+------------+--------------------+-------------+----+--------+----------+------------+------------+----------------+-----------+---------------+---------------+----------------+--------------------------+-----------------------+--------------+---------------+------------------+-------------------+--------------+-------------------------+--------------------------+----------------------------+-----------------------------+----------------------+-----------------------+-------------------------+--------------------------+-------------------+----------------+-----------------+------------------------+------------------------+---------------------+---------------------------+------------------------+-------------------------+--------------------------------+--------------------------------+-----------------------------+----+-----+\n",
      "|Abu Dhabi|2010-01-01 00:00:00|          15.1|                94.0|        14.2|                15.0|          0.0| 0.0|     0.0|       0.0|         0.0|      1012.1|          1011.4|        0.0|            0.0|            0.0|             0.0|                       0.0|                    0.1|          10.6|           17.0|             108.0|               94.0|          14.8|                     15.0|                      23.0|                        25.7|                         32.7|                 0.039|                  0.085|                    0.055|                     0.038|                0.0|             0.0|              0.0|                     0.0|                     0.0|                  0.0|                        0.0|                     0.0|                      0.0|                             0.0|                             0.0|                          0.0|2010|    1|\n",
      "|Abu Dhabi|2010-01-01 01:00:00|          14.4|                95.0|        13.6|                14.2|          0.0| 0.0|     0.0|       0.0|         0.0|      1012.4|          1011.7|        0.0|            0.0|            0.0|             0.0|                       0.0|                   0.09|           9.2|           13.1|             129.0|              106.0|          13.3|                     14.5|                      22.8|                        25.7|                         32.7|                 0.039|                  0.085|                    0.055|                     0.038|                0.0|             0.0|              0.0|                     0.0|                     0.0|                  0.0|                        0.0|                     0.0|                      0.0|                             0.0|                             0.0|                          0.0|2010|    1|\n",
      "|Abu Dhabi|2010-01-01 02:00:00|          13.9|                94.0|        12.9|                13.2|          0.0| 0.0|     0.0|       0.0|         0.0|      1012.6|          1011.9|        0.0|            0.0|            0.0|             0.0|                       0.0|                    0.1|          10.7|           12.3|             147.0|              128.0|          13.3|                     14.1|                      22.6|                        25.7|                         32.7|                 0.039|                  0.085|                    0.055|                     0.038|                0.0|             0.0|              0.0|                     0.0|                     0.0|                  0.0|                        0.0|                     0.0|                      0.0|                             0.0|                             0.0|                          0.0|2010|    1|\n",
      "|Abu Dhabi|2010-01-01 03:00:00|          13.4|                92.0|        12.2|                12.4|          0.0| 0.0|     0.0|       0.0|         0.0|      1013.2|          1012.5|        1.0|            0.0|            2.0|             0.0|                       0.0|                   0.12|          11.5|           13.9|             160.0|              149.0|          14.0|                     13.6|                      22.3|                        25.6|                         32.7|                 0.039|                  0.085|                    0.055|                     0.038|                0.0|             0.0|              0.0|                     0.0|                     0.0|                  0.0|                        0.0|                     0.0|                      0.0|                             0.0|                             0.0|                          0.0|2010|    1|\n",
      "|Abu Dhabi|2010-01-01 04:00:00|          13.6|                89.0|        11.9|                12.8|          0.0| 0.0|     0.0|       0.0|         0.0|      1013.7|          1013.0|        2.0|            0.0|            3.0|             2.0|                      0.02|                   0.16|           9.8|           13.4|             174.0|              172.0|          14.0|                     13.9|                      22.1|                        25.6|                         32.7|                 0.039|                  0.085|                    0.055|                     0.038|               45.0|            24.0|             21.0|                   194.9|                    45.0|                113.5|                       96.9|                    51.7|                     45.2|                           299.0|                            63.2|                        244.5|2010|    1|\n",
      "+---------+-------------------+--------------+--------------------+------------+--------------------+-------------+----+--------+----------+------------+------------+----------------+-----------+---------------+---------------+----------------+--------------------------+-----------------------+--------------+---------------+------------------+-------------------+--------------+-------------------------+--------------------------+----------------------------+-----------------------------+----------------------+-----------------------+-------------------------+--------------------------+-------------------+----------------+-----------------+------------------------+------------------------+---------------------+---------------------------+------------------------+-------------------------+--------------------------------+--------------------------------+-----------------------------+----+-----+\n",
      "only showing top 5 rows\n",
      "\n"
     ]
    }
   ],
   "source": [
    "from pyspark.sql.functions import col, month, year\n",
    "\n",
    "# Add year and month columns\n",
    "weather_data = weather_data.withColumn(\"year\", year(col(\"datetime\"))) \\\n",
    "    .withColumn(\"month\", month(col(\"datetime\")))\n",
    "\n",
    "weather_data.show(5)\n"
   ]
  },
  {
   "cell_type": "markdown",
   "id": "e1a28f7a-ff20-47ac-b6ad-4dc58fd5001f",
   "metadata": {},
   "source": [
    "#### 3. Filter for Favorable Conditions:\n",
    "Apply filters for temperature, precipitation, and cloud cover."
   ]
  },
  {
   "cell_type": "code",
   "execution_count": 3,
   "id": "f8255219-e8a0-4ba5-ab5f-a472bc0f107f",
   "metadata": {},
   "outputs": [
    {
     "name": "stdout",
     "output_type": "stream",
     "text": [
      "+---------+-------------------+--------------+--------------------+------------+--------------------+-------------+----+--------+----------+------------+------------+----------------+-----------+---------------+---------------+----------------+--------------------------+-----------------------+--------------+---------------+------------------+-------------------+--------------+-------------------------+--------------------------+----------------------------+-----------------------------+----------------------+-----------------------+-------------------------+--------------------------+-------------------+----------------+-----------------+------------------------+------------------------+---------------------+---------------------------+------------------------+-------------------------+--------------------------------+--------------------------------+-----------------------------+----+-----+\n",
      "|city_name|           datetime|temperature_2m|relative_humidity_2m|dew_point_2m|apparent_temperature|precipitation|rain|snowfall|snow_depth|weather_code|pressure_msl|surface_pressure|cloud_cover|cloud_cover_low|cloud_cover_mid|cloud_cover_high|et0_fao_evapotranspiration|vapour_pressure_deficit|wind_speed_10m|wind_speed_100m|wind_direction_10m|wind_direction_100m|wind_gusts_10m|soil_temperature_0_to_7cm|soil_temperature_7_to_28cm|soil_temperature_28_to_100cm|soil_temperature_100_to_255cm|soil_moisture_0_to_7cm|soil_moisture_7_to_28cm|soil_moisture_28_to_100cm|soil_moisture_100_to_255cm|shortwave_radiation|direct_radiation|diffuse_radiation|direct_normal_irradiance|global_tilted_irradiance|terrestrial_radiation|shortwave_radiation_instant|direct_radiation_instant|diffuse_radiation_instant|direct_normal_irradiance_instant|global_tilted_irradiance_instant|terrestrial_radiation_instant|year|month|\n",
      "+---------+-------------------+--------------+--------------------+------------+--------------------+-------------+----+--------+----------+------------+------------+----------------+-----------+---------------+---------------+----------------+--------------------------+-----------------------+--------------+---------------+------------------+-------------------+--------------+-------------------------+--------------------------+----------------------------+-----------------------------+----------------------+-----------------------+-------------------------+--------------------------+-------------------+----------------+-----------------+------------------------+------------------------+---------------------+---------------------------+------------------------+-------------------------+--------------------------------+--------------------------------+-----------------------------+----+-----+\n",
      "|Abu Dhabi|2010-01-01 14:00:00|          21.1|                64.0|        14.0|                19.6|          0.0| 0.0|     0.0|       0.0|         0.0|      1013.1|          1012.4|       12.0|            2.0|           17.0|             1.0|                       0.1|                    0.9|          19.1|           23.7|             292.0|              292.0|          29.2|                     24.8|                      23.7|                        25.6|                         32.7|                 0.044|                  0.085|                    0.055|                     0.038|               28.0|            12.0|             16.0|                   110.1|                    28.0|                 93.3|                        0.0|                     0.0|                      0.0|                             0.0|                             0.0|                          0.0|2010|    1|\n",
      "|Abu Dhabi|2010-01-01 15:00:00|          20.0|                71.0|        14.6|                18.6|          0.0| 0.0|     0.0|       0.0|         0.0|      1013.9|          1013.2|       14.0|            6.0|           13.0|             3.0|                      0.06|                   0.68|          20.0|           26.0|             293.0|              294.0|          31.3|                     22.4|                      23.7|                        25.6|                         32.7|                 0.044|                  0.085|                    0.055|                     0.038|                0.0|             0.0|              0.0|                     0.0|                     0.0|                  0.0|                        0.0|                     0.0|                      0.0|                             0.0|                             0.0|                          0.0|2010|    1|\n",
      "|Abu Dhabi|2010-01-03 09:00:00|          22.7|                52.0|        12.3|                22.6|          0.0| 0.0|     0.0|       0.0|         0.0|      1020.5|          1019.8|       10.0|           11.0|            0.0|             0.0|                      0.43|                   1.33|           9.6|           10.1|             326.0|              325.0|          20.9|                     31.3|                      22.2|                        25.4|                         32.6|                  0.05|                  0.085|                    0.055|                     0.038|              662.0|           510.0|            152.0|                   754.9|                   662.0|                955.7|                      655.8|                   505.2|                    150.6|                           754.9|                           655.8|                        946.7|2010|    1|\n",
      "|Abu Dhabi|2010-01-03 11:00:00|          22.9|                52.0|        12.5|                22.0|          0.0| 0.0|     0.0|       0.0|         0.0|      1019.6|          1018.9|        2.0|            2.0|            0.0|             0.0|                      0.37|                   1.34|          11.5|           12.3|             319.0|              320.0|          23.8|                     32.4|                      22.9|                        25.4|                         32.6|                 0.048|                  0.085|                    0.055|                     0.038|              557.0|           447.0|            110.0|                   801.4|                   557.0|                789.1|                      496.9|                   398.8|                     98.1|                           801.4|                           496.9|                        703.9|2010|    1|\n",
      "|Abu Dhabi|2010-01-03 12:00:00|          22.6|                53.0|        12.5|                21.7|          0.0| 0.0|     0.0|       0.0|         0.0|      1019.7|          1019.0|        0.0|            0.0|            0.0|             0.0|                      0.28|                   1.29|          12.0|           12.7|             314.0|              315.0|          24.5|                     31.0|                      23.2|                        25.4|                         32.6|                 0.047|                  0.085|                    0.055|                     0.038|              402.0|           312.0|             90.0|                   738.4|                   402.0|                597.7|                      324.1|                   251.6|                     72.6|                           738.4|                           324.1|                        482.0|2010|    1|\n",
      "+---------+-------------------+--------------+--------------------+------------+--------------------+-------------+----+--------+----------+------------+------------+----------------+-----------+---------------+---------------+----------------+--------------------------+-----------------------+--------------+---------------+------------------+-------------------+--------------+-------------------------+--------------------------+----------------------------+-----------------------------+----------------------+-----------------------+-------------------------+--------------------------+-------------------+----------------+-----------------+------------------------+------------------------+---------------------+---------------------------+------------------------+-------------------------+--------------------------------+--------------------------------+-----------------------------+----+-----+\n",
      "only showing top 5 rows\n",
      "\n"
     ]
    }
   ],
   "source": [
    "# Filter data for favorable outdoor conditions\n",
    "favorable_conditions = weather_data.filter(\n",
    "    (col(\"temperature_2m\") >= 20) & (col(\"temperature_2m\") <= 30) &\n",
    "    (col(\"precipitation\") < 2) &\n",
    "    (col(\"cloud_cover\") < 20)\n",
    ")\n",
    "\n",
    "favorable_conditions.show(5)\n"
   ]
  },
  {
   "cell_type": "markdown",
   "id": "7e749d55-0f50-4cf2-aa9d-aded1c833b34",
   "metadata": {},
   "source": [
    "#### 4. Group and Rank Cities:\n",
    "Group data by city and month, then count the number of favorable hours."
   ]
  },
  {
   "cell_type": "code",
   "execution_count": 4,
   "id": "eba3b728-22ea-4c9b-90ac-d996a9bf0425",
   "metadata": {},
   "outputs": [
    {
     "name": "stdout",
     "output_type": "stream",
     "text": [
      "+---------+-----+---------------+\n",
      "|city_name|month|favorable_hours|\n",
      "+---------+-----+---------------+\n",
      "|   Muscat|   11|           5530|\n",
      "|   Naples|    8|           5362|\n",
      "|   Muscat|    3|           5244|\n",
      "|   Naples|    7|           5021|\n",
      "| Istanbul|    7|           4995|\n",
      "|Abu Dhabi|   11|           4972|\n",
      "|   Muscat|   12|           4891|\n",
      "| Istanbul|    8|           4743|\n",
      "| Tel Aviv|    6|           4647|\n",
      "| Valencia|    7|           4512|\n",
      "+---------+-----+---------------+\n",
      "only showing top 10 rows\n",
      "\n"
     ]
    }
   ],
   "source": [
    "from pyspark.sql.functions import count\n",
    "\n",
    "# Count favorable hours per city per month\n",
    "city_ranking = favorable_conditions.groupBy(\"city_name\", \"month\").agg(\n",
    "    count(\"*\").alias(\"favorable_hours\")\n",
    ").orderBy(col(\"favorable_hours\").desc())\n",
    "\n",
    "city_ranking.show(10)\n"
   ]
  }
 ],
 "metadata": {
  "kernelspec": {
   "display_name": "Python 3 (ipykernel)",
   "language": "python",
   "name": "python3"
  },
  "language_info": {
   "codemirror_mode": {
    "name": "ipython",
    "version": 3
   },
   "file_extension": ".py",
   "mimetype": "text/x-python",
   "name": "python",
   "nbconvert_exporter": "python",
   "pygments_lexer": "ipython3",
   "version": "3.12.4"
  }
 },
 "nbformat": 4,
 "nbformat_minor": 5
}
